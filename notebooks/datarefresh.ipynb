{
 "cells": [
  {
   "cell_type": "markdown",
   "metadata": {},
   "source": [
    "### Market data refresh \n",
    "\n",
    "### Input Description\n",
    "\n",
    "RAW OHLC data.\n",
    "\n",
    "### Output  \n",
    "\n",
    "Clean OHLC data in a hdf store\n",
    "\n",
    "### Operations\n",
    "\n",
    "This code takes a financial market data file and runs it through a processing pipeline. The following operations are carried out :\n",
    "\n",
    "- Localise the time data to market time\n",
    "- Merge with existing RAW data based on datetime\n",
    "- Save the resulting RAW data to HDF5"
   ]
  },
  {
   "cell_type": "code",
   "execution_count": 1,
   "metadata": {
    "pixiedust": {
     "displayParams": {}
    }
   },
   "outputs": [],
   "source": [
    "#!pip install --upgrade \"../../quantutils\"\n",
    "import json, os, pandas\n",
    "import quantutils.dataset.pipeline as ppl\n",
    "from quantutils.api.datasource import MarketDataStore\n",
    "mds = MarketDataStore(\"../datasources\")"
   ]
  },
  {
   "cell_type": "code",
   "execution_count": 4,
   "metadata": {
    "pixiedust": {
     "displayParams": {}
    },
    "scrolled": false
   },
   "outputs": [],
   "source": [
    "def refreshMarketData(root, datasource_file):\n",
    "\n",
    "    # Loop over datasources...\n",
    "    # TODO: In chronological order\n",
    "\n",
    "    datasources = json.load(open(root + \"/\" + datasource_file))\n",
    "    \n",
    "    for datasource in datasources:\n",
    "\n",
    "        DS_path = root + \"/\" + datasource[\"name\"] + \"/\"\n",
    "        SRC_path = DS_path + \"raw/\"\n",
    "\n",
    "        for market in datasource[\"markets\"]:\n",
    "\n",
    "            for source in market[\"sources\"]:\n",
    "\n",
    "                # Loop over any source files...\n",
    "                for infile in os.listdir(SRC_path):\n",
    "\n",
    "                    if infile.lower().startswith(source[\"name\"].lower()):\n",
    "\n",
    "                        print(\"Adding \" + infile + \" to \" + market[\"name\"] + \" table\")\n",
    "\n",
    "                        # Load RAW data (assume CSV)\n",
    "                        newData = pandas.read_csv(SRC_path + infile,\n",
    "                                                  index_col=datasource[\"index_col\"],\n",
    "                                                  parse_dates=datasource[\"parse_dates\"],\n",
    "                                                  header=None,\n",
    "                                                  names=[\"Date\", \"Time\", \"Open\", \"High\", \"Low\", \"Close\"],\n",
    "                                                  usecols=range(0, 6),\n",
    "                                                  skiprows=datasource[\"skiprows\"],\n",
    "                                                  dayfirst=datasource[\"dayfirst\"]\n",
    "                                                  )\n",
    "\n",
    "                        if newData is not None:\n",
    "\n",
    "                            newData = ppl.localize(newData, datasource[\"timezone\"], \"UTC\")\n",
    "\n",
    "                            # TODO: Call Price Store API to append data\n",
    "                            mds.appendHDF(source[\"name\"], newData, source[\"sample_unit\"], update=True)"
   ]
  },
  {
   "cell_type": "code",
   "execution_count": 5,
   "metadata": {
    "scrolled": false
   },
   "outputs": [
    {
     "name": "stdout",
     "output_type": "stream",
     "text": [
      "Adding WallSt-hourly-120217.txt to DOW table\n",
      "Converting from Europe/London to UTC\n",
      "Resampling to H periods\n",
      "Appending data...\n",
      "Adding WallSt-hourly-011116.txt to DOW table\n"
     ]
    },
    {
     "name": "stderr",
     "output_type": "stream",
     "text": [
      "/home/cwilkin/Development/anaconda/envs/dev/lib/python3.6/site-packages/tables/path.py:155: NaturalNameWarning: object name is not a valid Python identifier: 'WallSt-hourly'; it does not match the pattern ``^[a-zA-Z_][a-zA-Z0-9_]*$``; you will not be able to use natural naming to access this object; using ``getattr()`` will still work, though\n",
      "  check_attribute_name(name)\n"
     ]
    },
    {
     "name": "stdout",
     "output_type": "stream",
     "text": [
      "Converting from Europe/London to UTC\n",
      "Resampling to H periods\n",
      "Re-writing table data for update...\n",
      "Adding WallSt-hourly-210618.txt to DOW table\n",
      "Converting from Europe/London to UTC\n",
      "Resampling to H periods\n",
      "Appending data...\n",
      "Adding WallSt-hourly-230718.txt to DOW table\n",
      "Converting from Europe/London to UTC\n",
      "Resampling to H periods\n",
      "Appending data...\n",
      "Adding WallSt-hourly-050517.txt to DOW table\n",
      "Converting from Europe/London to UTC\n",
      "Resampling to H periods\n",
      "Re-writing table data for update...\n",
      "Adding WallSt-hourly-140518.txt to DOW table\n",
      "Converting from Europe/London to UTC\n",
      "Resampling to H periods\n",
      "Re-writing table data for update...\n",
      "Adding WallSt-hourly-040417.txt to DOW table\n",
      "Converting from Europe/London to UTC\n",
      "Resampling to H periods\n",
      "Re-writing table data for update...\n",
      "Adding WallSt-hourly-030818.txt to DOW table\n",
      "Converting from Europe/London to UTC\n",
      "Resampling to H periods\n",
      "Re-writing table data for update...\n",
      "Adding WallSt-hourly-160517.txt to DOW table\n",
      "Converting from Europe/London to UTC\n",
      "Resampling to H periods\n",
      "Re-writing table data for update...\n",
      "Adding WallSt-hourly-091116.txt to DOW table\n",
      "Converting from Europe/London to UTC\n",
      "Resampling to H periods\n",
      "Re-writing table data for update...\n",
      "Adding WallSt-hourly-230617.txt to DOW table\n",
      "Converting from Europe/London to UTC\n",
      "Resampling to H periods\n",
      "Re-writing table data for update...\n",
      "Adding WallSt-hourly-200317.txt to DOW table\n",
      "Converting from Europe/London to UTC\n",
      "Resampling to H periods\n",
      "Re-writing table data for update...\n",
      "Adding WallSt-hourly-200318.txt to DOW table\n",
      "Converting from Europe/London to UTC\n",
      "Resampling to H periods\n",
      "Re-writing table data for update...\n",
      "Adding WallSt-hourly-061116.txt to DOW table\n",
      "Converting from Europe/London to UTC\n",
      "Resampling to H periods\n",
      "Re-writing table data for update...\n",
      "Adding WallSt-hourly-050617.txt to DOW table\n",
      "Converting from Europe/London to UTC\n",
      "Resampling to H periods\n",
      "Re-writing table data for update...\n",
      "Adding WallSt-hourly-180418.txt to DOW table\n",
      "Converting from Europe/London to UTC\n",
      "Resampling to H periods\n",
      "Re-writing table data for update...\n",
      "Adding WallSt-hourly-301016.txt to DOW table\n",
      "Converting from Europe/London to UTC\n",
      "Resampling to H periods\n",
      "Re-writing table data for update...\n",
      "Adding WallSt-hourly-021116.txt to DOW table\n",
      "Converting from Europe/London to UTC\n",
      "Resampling to H periods\n",
      "Re-writing table data for update...\n",
      "Adding WallSt-hourly-040618.txt to DOW table\n",
      "Converting from Europe/London to UTC\n",
      "Resampling to H periods\n",
      "Re-writing table data for update...\n",
      "Adding WallSt-hourly-071116.txt to DOW table\n",
      "Converting from Europe/London to UTC\n",
      "Resampling to H periods\n",
      "Re-writing table data for update...\n",
      "Adding SP500-hourly-230617.txt to SPY table\n",
      "Converting from Europe/London to UTC\n",
      "Resampling to H periods\n",
      "Appending data...\n",
      "Adding SP500-hourly-040417.txt to SPY table\n"
     ]
    },
    {
     "name": "stderr",
     "output_type": "stream",
     "text": [
      "/home/cwilkin/Development/anaconda/envs/dev/lib/python3.6/site-packages/tables/path.py:155: NaturalNameWarning: object name is not a valid Python identifier: 'SP500-hourly'; it does not match the pattern ``^[a-zA-Z_][a-zA-Z0-9_]*$``; you will not be able to use natural naming to access this object; using ``getattr()`` will still work, though\n",
      "  check_attribute_name(name)\n"
     ]
    },
    {
     "name": "stdout",
     "output_type": "stream",
     "text": [
      "Converting from Europe/London to UTC\n",
      "Resampling to H periods\n",
      "Re-writing table data for update...\n",
      "Adding SP500-hourly-210618.txt to SPY table\n",
      "Converting from Europe/London to UTC\n",
      "Resampling to H periods\n",
      "Appending data...\n",
      "Adding SP500-hourly-200318.txt to SPY table\n",
      "Converting from Europe/London to UTC\n",
      "Resampling to H periods\n",
      "Re-writing table data for update...\n",
      "Adding SP500-hourly-180418.txt to SPY table\n",
      "Converting from Europe/London to UTC\n",
      "Resampling to H periods\n",
      "Re-writing table data for update...\n",
      "Adding SP500-hourly-140518.txt to SPY table\n",
      "Converting from Europe/London to UTC\n",
      "Resampling to H periods\n",
      "Re-writing table data for update...\n",
      "Adding SP500-hourly-040618.txt to SPY table\n",
      "Converting from Europe/London to UTC\n",
      "Resampling to H periods\n",
      "Re-writing table data for update...\n",
      "Adding SP500-hourly-030818.txt to SPY table\n",
      "Converting from Europe/London to UTC\n",
      "Resampling to H periods\n",
      "Appending data...\n",
      "Adding SP500-hourly-230718.txt to SPY table\n",
      "Converting from Europe/London to UTC\n",
      "Resampling to H periods\n",
      "Re-writing table data for update...\n",
      "Adding SP500-hourly-050517.txt to SPY table\n",
      "Converting from Europe/London to UTC\n",
      "Resampling to H periods\n",
      "Re-writing table data for update...\n",
      "Adding SP500-hourly-050617.txt to SPY table\n",
      "Converting from Europe/London to UTC\n",
      "Resampling to H periods\n",
      "Re-writing table data for update...\n",
      "Adding D&J-IND_150101_170519.csv to DOW table\n",
      "Converting from US/Eastern to UTC\n",
      "Resampling to 5min periods\n",
      "Appending data...\n",
      "Adding D&J-IND_161003_180319.csv to DOW table\n"
     ]
    },
    {
     "name": "stderr",
     "output_type": "stream",
     "text": [
      "/home/cwilkin/Development/anaconda/envs/dev/lib/python3.6/site-packages/tables/path.py:155: NaturalNameWarning: object name is not a valid Python identifier: 'D&J-IND'; it does not match the pattern ``^[a-zA-Z_][a-zA-Z0-9_]*$``; you will not be able to use natural naming to access this object; using ``getattr()`` will still work, though\n",
      "  check_attribute_name(name)\n"
     ]
    },
    {
     "name": "stdout",
     "output_type": "stream",
     "text": [
      "Converting from US/Eastern to UTC\n",
      "Resampling to 5min periods\n",
      "Re-writing table data for update...\n",
      "Adding D&J-IND_130101_141231.csv to DOW table\n",
      "Converting from US/Eastern to UTC\n",
      "Resampling to 5min periods\n",
      "Re-writing table data for update...\n",
      "Adding SANDP-500_161003_180319.csv to SPY table\n",
      "Converting from US/Eastern to UTC\n",
      "Resampling to 5min periods\n",
      "Appending data...\n",
      "Adding SANDP-500_150101_170519.csv to SPY table\n"
     ]
    },
    {
     "name": "stderr",
     "output_type": "stream",
     "text": [
      "/home/cwilkin/Development/anaconda/envs/dev/lib/python3.6/site-packages/tables/path.py:155: NaturalNameWarning: object name is not a valid Python identifier: 'SANDP-500'; it does not match the pattern ``^[a-zA-Z_][a-zA-Z0-9_]*$``; you will not be able to use natural naming to access this object; using ``getattr()`` will still work, though\n",
      "  check_attribute_name(name)\n"
     ]
    },
    {
     "name": "stdout",
     "output_type": "stream",
     "text": [
      "Converting from US/Eastern to UTC\n",
      "Resampling to 5min periods\n",
      "Re-writing table data for update...\n",
      "Adding SANDP-500_130101_141231.csv to SPY table\n",
      "Converting from US/Eastern to UTC\n",
      "Resampling to 5min periods\n",
      "Re-writing table data for update...\n"
     ]
    }
   ],
   "source": [
    "refreshMarketData(\"../datasources\", \"datasources.json\")"
   ]
  },
  {
   "cell_type": "code",
   "execution_count": null,
   "metadata": {},
   "outputs": [],
   "source": []
  }
 ],
 "metadata": {
  "kernelspec": {
   "display_name": "Python 3",
   "language": "python",
   "name": "python3"
  },
  "language_info": {
   "codemirror_mode": {
    "name": "ipython",
    "version": 3
   },
   "file_extension": ".py",
   "mimetype": "text/x-python",
   "name": "python",
   "nbconvert_exporter": "python",
   "pygments_lexer": "ipython3",
   "version": "3.6.9"
  }
 },
 "nbformat": 4,
 "nbformat_minor": 1
}
