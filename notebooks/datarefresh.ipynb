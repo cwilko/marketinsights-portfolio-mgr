{
 "cells": [
  {
   "cell_type": "markdown",
   "metadata": {},
   "source": [
    "### Market data refresh \n",
    "\n",
    "### Input Description\n",
    "\n",
    "RAW OHLC data.\n",
    "\n",
    "### Output  \n",
    "\n",
    "Clean OHLC data in a hdf store\n",
    "\n",
    "### Operations\n",
    "\n",
    "This code takes a financial market data file and runs it through a processing pipeline. The following operations are carried out :\n",
    "\n",
    "- Localise the time data to market time\n",
    "- Merge with existing RAW data based on datetime\n",
    "- Save the resulting RAW data to HDF5"
   ]
  },
  {
   "cell_type": "code",
   "execution_count": 1,
   "metadata": {
    "pixiedust": {
     "displayParams": {}
    }
   },
   "outputs": [],
   "source": [
    "#!pip install --upgrade \"../../quantutils\"\n",
    "import json, os, pandas\n",
    "import quantutils.dataset.pipeline as ppl\n",
    "from quantutils.api.datasource import MarketDataStore"
   ]
  },
  {
   "cell_type": "code",
   "execution_count": 5,
   "metadata": {
    "pixiedust": {
     "displayParams": {}
    },
    "scrolled": false
   },
   "outputs": [],
   "source": [
    "def refreshMarketData(mds, root, datasource_file):\n",
    "\n",
    "    # Loop over datasources...\n",
    "    # TODO: In chronological order\n",
    "\n",
    "    datasources = json.load(open(root + \"/\" + datasource_file))\n",
    "    \n",
    "    for datasource in datasources:\n",
    "\n",
    "        DS_path = root + \"/\" + datasource[\"name\"] + \"/\"\n",
    "        SRC_path = DS_path + \"raw/\"\n",
    "\n",
    "        for market in datasource[\"markets\"]:\n",
    "\n",
    "            for source in market[\"sources\"]:\n",
    "\n",
    "                # Loop over any source files...\n",
    "                for infile in os.listdir(SRC_path):\n",
    "\n",
    "                    if infile.lower().startswith(source[\"name\"].lower()):\n",
    "\n",
    "                        print(\"Adding \" + infile + \" to \" + market[\"name\"] + \" table\")\n",
    "\n",
    "                        # Load RAW data (assume CSV)\n",
    "                        newData = pandas.read_csv(SRC_path + infile,\n",
    "                                                  index_col=datasource[\"index_col\"],\n",
    "                                                  parse_dates=datasource[\"parse_dates\"],\n",
    "                                                  header=None,\n",
    "                                                  names=[\"Date\", \"Time\", \"Open\", \"High\", \"Low\", \"Close\"],\n",
    "                                                  usecols=range(0, 6),\n",
    "                                                  skiprows=datasource[\"skiprows\"],\n",
    "                                                  dayfirst=datasource[\"dayfirst\"]\n",
    "                                                  )\n",
    "\n",
    "                        if newData is not None:\n",
    "\n",
    "                            newData = ppl.localize(newData, datasource[\"timezone\"], \"UTC\")\n",
    "\n",
    "                            mds.append(source[\"name\"], newData, source[\"sample_unit\"], update=True)"
   ]
  },
  {
   "cell_type": "code",
   "execution_count": 6,
   "metadata": {
    "scrolled": false
   },
   "outputs": [
    {
     "name": "stdout",
     "output_type": "stream",
     "text": [
      "Adding WallSt-hourly-120217.txt to DOW table\n",
      "Converting from Europe/London to UTC\n",
      "http://pricestore.192.168.1.203.nip.io/prices/datasource/WallSt-hourly?unit=H\n",
      "<Response [200]>\n",
      "http://pricestore.192.168.1.203.nip.io/prices/datasource/WallSt-hourly?unit=H\n",
      "{'rc': 'success'}\n",
      "Adding WallSt-hourly-011116.txt to DOW table\n",
      "Converting from Europe/London to UTC\n",
      "http://pricestore.192.168.1.203.nip.io/prices/datasource/WallSt-hourly?unit=H\n",
      "<Response [200]>\n",
      "http://pricestore.192.168.1.203.nip.io/prices/datasource/WallSt-hourly?unit=H\n",
      "{'rc': 'success'}\n",
      "Adding WallSt-hourly-210618.txt to DOW table\n",
      "Converting from Europe/London to UTC\n",
      "http://pricestore.192.168.1.203.nip.io/prices/datasource/WallSt-hourly?unit=H\n",
      "<Response [200]>\n",
      "http://pricestore.192.168.1.203.nip.io/prices/datasource/WallSt-hourly?unit=H\n",
      "{'rc': 'success'}\n",
      "Adding WallSt-hourly-230718.txt to DOW table\n",
      "Converting from Europe/London to UTC\n",
      "http://pricestore.192.168.1.203.nip.io/prices/datasource/WallSt-hourly?unit=H\n",
      "<Response [200]>\n",
      "http://pricestore.192.168.1.203.nip.io/prices/datasource/WallSt-hourly?unit=H\n",
      "{'rc': 'success'}\n",
      "Adding WallSt-hourly-050517.txt to DOW table\n",
      "Converting from Europe/London to UTC\n",
      "http://pricestore.192.168.1.203.nip.io/prices/datasource/WallSt-hourly?unit=H\n",
      "<Response [200]>\n",
      "http://pricestore.192.168.1.203.nip.io/prices/datasource/WallSt-hourly?unit=H\n",
      "{'rc': 'success'}\n",
      "Adding WallSt-hourly-140518.txt to DOW table\n",
      "Converting from Europe/London to UTC\n",
      "http://pricestore.192.168.1.203.nip.io/prices/datasource/WallSt-hourly?unit=H\n",
      "<Response [200]>\n",
      "http://pricestore.192.168.1.203.nip.io/prices/datasource/WallSt-hourly?unit=H\n",
      "{'rc': 'success'}\n",
      "Adding WallSt-hourly-040417.txt to DOW table\n",
      "Converting from Europe/London to UTC\n",
      "http://pricestore.192.168.1.203.nip.io/prices/datasource/WallSt-hourly?unit=H\n",
      "<Response [200]>\n",
      "http://pricestore.192.168.1.203.nip.io/prices/datasource/WallSt-hourly?unit=H\n",
      "{'rc': 'success'}\n",
      "Adding WallSt-hourly-030818.txt to DOW table\n",
      "Converting from Europe/London to UTC\n",
      "http://pricestore.192.168.1.203.nip.io/prices/datasource/WallSt-hourly?unit=H\n",
      "<Response [200]>\n",
      "http://pricestore.192.168.1.203.nip.io/prices/datasource/WallSt-hourly?unit=H\n",
      "{'rc': 'success'}\n",
      "Adding WallSt-hourly-160517.txt to DOW table\n",
      "Converting from Europe/London to UTC\n",
      "http://pricestore.192.168.1.203.nip.io/prices/datasource/WallSt-hourly?unit=H\n",
      "<Response [200]>\n",
      "http://pricestore.192.168.1.203.nip.io/prices/datasource/WallSt-hourly?unit=H\n",
      "{'rc': 'success'}\n",
      "Adding WallSt-hourly-091116.txt to DOW table\n",
      "Converting from Europe/London to UTC\n",
      "http://pricestore.192.168.1.203.nip.io/prices/datasource/WallSt-hourly?unit=H\n",
      "<Response [200]>\n",
      "http://pricestore.192.168.1.203.nip.io/prices/datasource/WallSt-hourly?unit=H\n",
      "{'rc': 'success'}\n",
      "Adding WallSt-hourly-230617.txt to DOW table\n",
      "Converting from Europe/London to UTC\n",
      "http://pricestore.192.168.1.203.nip.io/prices/datasource/WallSt-hourly?unit=H\n",
      "<Response [200]>\n",
      "http://pricestore.192.168.1.203.nip.io/prices/datasource/WallSt-hourly?unit=H\n",
      "{'rc': 'success'}\n",
      "Adding WallSt-hourly-200317.txt to DOW table\n",
      "Converting from Europe/London to UTC\n",
      "http://pricestore.192.168.1.203.nip.io/prices/datasource/WallSt-hourly?unit=H\n",
      "<Response [200]>\n",
      "http://pricestore.192.168.1.203.nip.io/prices/datasource/WallSt-hourly?unit=H\n",
      "{'rc': 'success'}\n",
      "Adding WallSt-hourly-200318.txt to DOW table\n",
      "Converting from Europe/London to UTC\n",
      "http://pricestore.192.168.1.203.nip.io/prices/datasource/WallSt-hourly?unit=H\n",
      "<Response [200]>\n",
      "http://pricestore.192.168.1.203.nip.io/prices/datasource/WallSt-hourly?unit=H\n",
      "{'rc': 'success'}\n",
      "Adding WallSt-hourly-061116.txt to DOW table\n",
      "Converting from Europe/London to UTC\n",
      "http://pricestore.192.168.1.203.nip.io/prices/datasource/WallSt-hourly?unit=H\n",
      "<Response [200]>\n",
      "http://pricestore.192.168.1.203.nip.io/prices/datasource/WallSt-hourly?unit=H\n",
      "{'rc': 'success'}\n",
      "Adding WallSt-hourly-050617.txt to DOW table\n",
      "Converting from Europe/London to UTC\n",
      "http://pricestore.192.168.1.203.nip.io/prices/datasource/WallSt-hourly?unit=H\n",
      "<Response [200]>\n",
      "http://pricestore.192.168.1.203.nip.io/prices/datasource/WallSt-hourly?unit=H\n",
      "{'rc': 'success'}\n",
      "Adding WallSt-hourly-180418.txt to DOW table\n",
      "Converting from Europe/London to UTC\n",
      "http://pricestore.192.168.1.203.nip.io/prices/datasource/WallSt-hourly?unit=H\n",
      "<Response [200]>\n",
      "http://pricestore.192.168.1.203.nip.io/prices/datasource/WallSt-hourly?unit=H\n",
      "{'rc': 'success'}\n",
      "Adding WallSt-hourly-301016.txt to DOW table\n",
      "Converting from Europe/London to UTC\n",
      "http://pricestore.192.168.1.203.nip.io/prices/datasource/WallSt-hourly?unit=H\n",
      "<Response [200]>\n",
      "http://pricestore.192.168.1.203.nip.io/prices/datasource/WallSt-hourly?unit=H\n",
      "{'rc': 'success'}\n",
      "Adding WallSt-hourly-021116.txt to DOW table\n",
      "Converting from Europe/London to UTC\n",
      "http://pricestore.192.168.1.203.nip.io/prices/datasource/WallSt-hourly?unit=H\n",
      "<Response [200]>\n",
      "http://pricestore.192.168.1.203.nip.io/prices/datasource/WallSt-hourly?unit=H\n",
      "{'rc': 'success'}\n",
      "Adding WallSt-hourly-040618.txt to DOW table\n",
      "Converting from Europe/London to UTC\n",
      "http://pricestore.192.168.1.203.nip.io/prices/datasource/WallSt-hourly?unit=H\n",
      "<Response [200]>\n",
      "http://pricestore.192.168.1.203.nip.io/prices/datasource/WallSt-hourly?unit=H\n",
      "{'rc': 'success'}\n",
      "Adding WallSt-hourly-071116.txt to DOW table\n",
      "Converting from Europe/London to UTC\n",
      "http://pricestore.192.168.1.203.nip.io/prices/datasource/WallSt-hourly?unit=H\n",
      "<Response [200]>\n",
      "http://pricestore.192.168.1.203.nip.io/prices/datasource/WallSt-hourly?unit=H\n",
      "{'rc': 'success'}\n",
      "Adding SP500-hourly-230617.txt to SPY table\n",
      "Converting from Europe/London to UTC\n",
      "http://pricestore.192.168.1.203.nip.io/prices/datasource/SP500-hourly?unit=H\n",
      "<Response [200]>\n",
      "http://pricestore.192.168.1.203.nip.io/prices/datasource/SP500-hourly?unit=H\n",
      "{'rc': 'success'}\n",
      "Adding SP500-hourly-040417.txt to SPY table\n",
      "Converting from Europe/London to UTC\n",
      "http://pricestore.192.168.1.203.nip.io/prices/datasource/SP500-hourly?unit=H\n",
      "<Response [200]>\n",
      "http://pricestore.192.168.1.203.nip.io/prices/datasource/SP500-hourly?unit=H\n",
      "{'rc': 'success'}\n",
      "Adding SP500-hourly-210618.txt to SPY table\n",
      "Converting from Europe/London to UTC\n",
      "http://pricestore.192.168.1.203.nip.io/prices/datasource/SP500-hourly?unit=H\n",
      "<Response [200]>\n",
      "http://pricestore.192.168.1.203.nip.io/prices/datasource/SP500-hourly?unit=H\n",
      "{'rc': 'success'}\n",
      "Adding SP500-hourly-200318.txt to SPY table\n",
      "Converting from Europe/London to UTC\n",
      "http://pricestore.192.168.1.203.nip.io/prices/datasource/SP500-hourly?unit=H\n",
      "<Response [200]>\n",
      "http://pricestore.192.168.1.203.nip.io/prices/datasource/SP500-hourly?unit=H\n",
      "{'rc': 'success'}\n",
      "Adding SP500-hourly-180418.txt to SPY table\n",
      "Converting from Europe/London to UTC\n",
      "http://pricestore.192.168.1.203.nip.io/prices/datasource/SP500-hourly?unit=H\n",
      "<Response [200]>\n",
      "http://pricestore.192.168.1.203.nip.io/prices/datasource/SP500-hourly?unit=H\n",
      "{'rc': 'success'}\n",
      "Adding SP500-hourly-140518.txt to SPY table\n",
      "Converting from Europe/London to UTC\n",
      "http://pricestore.192.168.1.203.nip.io/prices/datasource/SP500-hourly?unit=H\n",
      "<Response [200]>\n",
      "http://pricestore.192.168.1.203.nip.io/prices/datasource/SP500-hourly?unit=H\n",
      "{'rc': 'success'}\n",
      "Adding SP500-hourly-040618.txt to SPY table\n",
      "Converting from Europe/London to UTC\n",
      "http://pricestore.192.168.1.203.nip.io/prices/datasource/SP500-hourly?unit=H\n",
      "<Response [200]>\n",
      "http://pricestore.192.168.1.203.nip.io/prices/datasource/SP500-hourly?unit=H\n",
      "{'rc': 'success'}\n",
      "Adding SP500-hourly-030818.txt to SPY table\n",
      "Converting from Europe/London to UTC\n",
      "http://pricestore.192.168.1.203.nip.io/prices/datasource/SP500-hourly?unit=H\n",
      "<Response [200]>\n",
      "http://pricestore.192.168.1.203.nip.io/prices/datasource/SP500-hourly?unit=H\n",
      "{'rc': 'success'}\n",
      "Adding SP500-hourly-230718.txt to SPY table\n",
      "Converting from Europe/London to UTC\n",
      "http://pricestore.192.168.1.203.nip.io/prices/datasource/SP500-hourly?unit=H\n",
      "<Response [200]>\n",
      "http://pricestore.192.168.1.203.nip.io/prices/datasource/SP500-hourly?unit=H\n",
      "{'rc': 'success'}\n",
      "Adding SP500-hourly-050517.txt to SPY table\n",
      "Converting from Europe/London to UTC\n",
      "http://pricestore.192.168.1.203.nip.io/prices/datasource/SP500-hourly?unit=H\n",
      "<Response [200]>\n",
      "http://pricestore.192.168.1.203.nip.io/prices/datasource/SP500-hourly?unit=H\n",
      "{'rc': 'success'}\n",
      "Adding SP500-hourly-050617.txt to SPY table\n"
     ]
    },
    {
     "name": "stdout",
     "output_type": "stream",
     "text": [
      "Converting from Europe/London to UTC\n",
      "http://pricestore.192.168.1.203.nip.io/prices/datasource/SP500-hourly?unit=H\n",
      "<Response [200]>\n",
      "http://pricestore.192.168.1.203.nip.io/prices/datasource/SP500-hourly?unit=H\n",
      "{'rc': 'success'}\n",
      "Adding D&J-IND_150101_170519.csv to DOW table\n",
      "Converting from US/Eastern to UTC\n",
      "http://pricestore.192.168.1.203.nip.io/prices/datasource/D&J-IND?unit=5min\n",
      "<Response [413]>\n"
     ]
    },
    {
     "ename": "JSONDecodeError",
     "evalue": "Expecting value: line 1 column 1 (char 0)",
     "output_type": "error",
     "traceback": [
      "\u001b[0;31m---------------------------------------------------------------------------\u001b[0m",
      "\u001b[0;31mJSONDecodeError\u001b[0m                           Traceback (most recent call last)",
      "\u001b[0;32m<ipython-input-6-2070ff795127>\u001b[0m in \u001b[0;36m<module>\u001b[0;34m()\u001b[0m\n\u001b[1;32m      1\u001b[0m \u001b[0mmds\u001b[0m \u001b[0;34m=\u001b[0m \u001b[0mMarketDataStore\u001b[0m\u001b[0;34m(\u001b[0m\u001b[0mremote\u001b[0m\u001b[0;34m=\u001b[0m\u001b[0;32mTrue\u001b[0m\u001b[0;34m,\u001b[0m \u001b[0mlocation\u001b[0m\u001b[0;34m=\u001b[0m\u001b[0;34m\"http://pricestore.192.168.1.203.nip.io\"\u001b[0m\u001b[0;34m)\u001b[0m\u001b[0;34m\u001b[0m\u001b[0;34m\u001b[0m\u001b[0m\n\u001b[0;32m----> 2\u001b[0;31m \u001b[0mrefreshMarketData\u001b[0m\u001b[0;34m(\u001b[0m\u001b[0mmds\u001b[0m\u001b[0;34m,\u001b[0m \u001b[0;34m\"../datasources\"\u001b[0m\u001b[0;34m,\u001b[0m \u001b[0;34m\"datasources.json\"\u001b[0m\u001b[0;34m)\u001b[0m\u001b[0;34m\u001b[0m\u001b[0;34m\u001b[0m\u001b[0m\n\u001b[0m",
      "\u001b[0;32m<ipython-input-5-343001923192>\u001b[0m in \u001b[0;36mrefreshMarketData\u001b[0;34m(mds, root, datasource_file)\u001b[0m\n\u001b[1;32m     37\u001b[0m                             \u001b[0mnewData\u001b[0m \u001b[0;34m=\u001b[0m \u001b[0mppl\u001b[0m\u001b[0;34m.\u001b[0m\u001b[0mlocalize\u001b[0m\u001b[0;34m(\u001b[0m\u001b[0mnewData\u001b[0m\u001b[0;34m,\u001b[0m \u001b[0mdatasource\u001b[0m\u001b[0;34m[\u001b[0m\u001b[0;34m\"timezone\"\u001b[0m\u001b[0;34m]\u001b[0m\u001b[0;34m,\u001b[0m \u001b[0;34m\"UTC\"\u001b[0m\u001b[0;34m)\u001b[0m\u001b[0;34m\u001b[0m\u001b[0;34m\u001b[0m\u001b[0m\n\u001b[1;32m     38\u001b[0m \u001b[0;34m\u001b[0m\u001b[0m\n\u001b[0;32m---> 39\u001b[0;31m                             \u001b[0mmds\u001b[0m\u001b[0;34m.\u001b[0m\u001b[0mappend\u001b[0m\u001b[0;34m(\u001b[0m\u001b[0msource\u001b[0m\u001b[0;34m[\u001b[0m\u001b[0;34m\"name\"\u001b[0m\u001b[0;34m]\u001b[0m\u001b[0;34m,\u001b[0m \u001b[0mnewData\u001b[0m\u001b[0;34m,\u001b[0m \u001b[0msource\u001b[0m\u001b[0;34m[\u001b[0m\u001b[0;34m\"sample_unit\"\u001b[0m\u001b[0;34m]\u001b[0m\u001b[0;34m,\u001b[0m \u001b[0mupdate\u001b[0m\u001b[0;34m=\u001b[0m\u001b[0;32mTrue\u001b[0m\u001b[0;34m,\u001b[0m \u001b[0mdebug\u001b[0m\u001b[0;34m=\u001b[0m\u001b[0;32mTrue\u001b[0m\u001b[0;34m)\u001b[0m\u001b[0;34m\u001b[0m\u001b[0;34m\u001b[0m\u001b[0m\n\u001b[0m",
      "\u001b[0;32m~/Development/anaconda/envs/dev/lib/python3.6/site-packages/quantutils/api/datasource.py\u001b[0m in \u001b[0;36mappend\u001b[0;34m(self, source_id, data, source_sample_unit, update, debug)\u001b[0m\n\u001b[1;32m    150\u001b[0m     \u001b[0;32mdef\u001b[0m \u001b[0mappend\u001b[0m\u001b[0;34m(\u001b[0m\u001b[0mself\u001b[0m\u001b[0;34m,\u001b[0m \u001b[0msource_id\u001b[0m\u001b[0;34m,\u001b[0m \u001b[0mdata\u001b[0m\u001b[0;34m,\u001b[0m \u001b[0msource_sample_unit\u001b[0m\u001b[0;34m,\u001b[0m \u001b[0mupdate\u001b[0m\u001b[0;34m=\u001b[0m\u001b[0;32mFalse\u001b[0m\u001b[0;34m,\u001b[0m \u001b[0mdebug\u001b[0m\u001b[0;34m=\u001b[0m\u001b[0;32mFalse\u001b[0m\u001b[0;34m)\u001b[0m\u001b[0;34m:\u001b[0m\u001b[0;34m\u001b[0m\u001b[0;34m\u001b[0m\u001b[0m\n\u001b[1;32m    151\u001b[0m         \u001b[0;32mif\u001b[0m \u001b[0mupdate\u001b[0m\u001b[0;34m:\u001b[0m\u001b[0;34m\u001b[0m\u001b[0;34m\u001b[0m\u001b[0m\n\u001b[0;32m--> 152\u001b[0;31m             \u001b[0;32mreturn\u001b[0m \u001b[0mself\u001b[0m\u001b[0;34m.\u001b[0m\u001b[0mmdsRemote\u001b[0m\u001b[0;34m.\u001b[0m\u001b[0mput\u001b[0m\u001b[0;34m(\u001b[0m\u001b[0msource_id\u001b[0m\u001b[0;34m,\u001b[0m \u001b[0mdata\u001b[0m\u001b[0;34m.\u001b[0m\u001b[0mto_json\u001b[0m\u001b[0;34m(\u001b[0m\u001b[0morient\u001b[0m\u001b[0;34m=\u001b[0m\u001b[0;34m'split'\u001b[0m\u001b[0;34m,\u001b[0m \u001b[0mdate_format\u001b[0m\u001b[0;34m=\u001b[0m\u001b[0;34m\"iso\"\u001b[0m\u001b[0;34m)\u001b[0m\u001b[0;34m,\u001b[0m \u001b[0msource_sample_unit\u001b[0m\u001b[0;34m,\u001b[0m \u001b[0mdebug\u001b[0m\u001b[0;34m)\u001b[0m\u001b[0;34m\u001b[0m\u001b[0;34m\u001b[0m\u001b[0m\n\u001b[0m\u001b[1;32m    153\u001b[0m         \u001b[0;32melse\u001b[0m\u001b[0;34m:\u001b[0m\u001b[0;34m\u001b[0m\u001b[0;34m\u001b[0m\u001b[0m\n\u001b[1;32m    154\u001b[0m             \u001b[0;32mreturn\u001b[0m \u001b[0mself\u001b[0m\u001b[0;34m.\u001b[0m\u001b[0mmdsRemote\u001b[0m\u001b[0;34m.\u001b[0m\u001b[0mpost\u001b[0m\u001b[0;34m(\u001b[0m\u001b[0msource_id\u001b[0m\u001b[0;34m,\u001b[0m \u001b[0mdata\u001b[0m\u001b[0;34m.\u001b[0m\u001b[0mto_json\u001b[0m\u001b[0;34m(\u001b[0m\u001b[0morient\u001b[0m\u001b[0;34m=\u001b[0m\u001b[0;34m'split'\u001b[0m\u001b[0;34m,\u001b[0m \u001b[0mdate_format\u001b[0m\u001b[0;34m=\u001b[0m\u001b[0;34m\"iso\"\u001b[0m\u001b[0;34m)\u001b[0m\u001b[0;34m,\u001b[0m \u001b[0msource_sample_unit\u001b[0m\u001b[0;34m,\u001b[0m \u001b[0mdebug\u001b[0m\u001b[0;34m)\u001b[0m\u001b[0;34m\u001b[0m\u001b[0;34m\u001b[0m\u001b[0m\n",
      "\u001b[0;32m~/Development/anaconda/envs/dev/lib/python3.6/site-packages/quantutils/api/marketinsights.py\u001b[0m in \u001b[0;36mput\u001b[0;34m(self, source_id, data, source_sample_unit, debug)\u001b[0m\n\u001b[1;32m    254\u001b[0m         }\n\u001b[1;32m    255\u001b[0m         \u001b[0murl\u001b[0m \u001b[0;34m=\u001b[0m \u001b[0;34m\"\"\u001b[0m\u001b[0;34m.\u001b[0m\u001b[0mjoin\u001b[0m\u001b[0;34m(\u001b[0m\u001b[0;34m[\u001b[0m\u001b[0mself\u001b[0m\u001b[0;34m.\u001b[0m\u001b[0mendpoint\u001b[0m\u001b[0;34m,\u001b[0m \u001b[0;34m\"/prices/datasource/\"\u001b[0m\u001b[0;34m,\u001b[0m \u001b[0msource_id\u001b[0m\u001b[0;34m,\u001b[0m \u001b[0;34m\"?unit=\"\u001b[0m\u001b[0;34m,\u001b[0m \u001b[0msource_sample_unit\u001b[0m\u001b[0;34m]\u001b[0m\u001b[0;34m)\u001b[0m\u001b[0;34m\u001b[0m\u001b[0;34m\u001b[0m\u001b[0m\n\u001b[0;32m--> 256\u001b[0;31m         \u001b[0;32mreturn\u001b[0m \u001b[0mhttp\u001b[0m\u001b[0;34m.\u001b[0m\u001b[0mput\u001b[0m\u001b[0;34m(\u001b[0m\u001b[0murl\u001b[0m\u001b[0;34m=\u001b[0m\u001b[0murl\u001b[0m\u001b[0;34m,\u001b[0m \u001b[0mheaders\u001b[0m\u001b[0;34m=\u001b[0m\u001b[0mheaders\u001b[0m\u001b[0;34m,\u001b[0m \u001b[0mdata\u001b[0m\u001b[0;34m=\u001b[0m\u001b[0mdata\u001b[0m\u001b[0;34m,\u001b[0m \u001b[0mdebug\u001b[0m\u001b[0;34m=\u001b[0m\u001b[0mdebug\u001b[0m\u001b[0;34m)\u001b[0m\u001b[0;34m\u001b[0m\u001b[0;34m\u001b[0m\u001b[0m\n\u001b[0m\u001b[1;32m    257\u001b[0m \u001b[0;34m\u001b[0m\u001b[0m\n\u001b[1;32m    258\u001b[0m     \u001b[0;32mdef\u001b[0m \u001b[0mpost\u001b[0m\u001b[0;34m(\u001b[0m\u001b[0mself\u001b[0m\u001b[0;34m,\u001b[0m \u001b[0msource_id\u001b[0m\u001b[0;34m,\u001b[0m \u001b[0mdata\u001b[0m\u001b[0;34m,\u001b[0m \u001b[0msource_sample_unit\u001b[0m\u001b[0;34m,\u001b[0m \u001b[0mdebug\u001b[0m\u001b[0;34m=\u001b[0m\u001b[0;32mFalse\u001b[0m\u001b[0;34m)\u001b[0m\u001b[0;34m:\u001b[0m\u001b[0;34m\u001b[0m\u001b[0;34m\u001b[0m\u001b[0m\n",
      "\u001b[0;32m~/Development/anaconda/envs/dev/lib/python3.6/site-packages/quantutils/core/http.py\u001b[0m in \u001b[0;36mput\u001b[0;34m(url, headers, data, debug)\u001b[0m\n\u001b[1;32m      8\u001b[0m \u001b[0;34m\u001b[0m\u001b[0m\n\u001b[1;32m      9\u001b[0m \u001b[0;32mdef\u001b[0m \u001b[0mput\u001b[0m\u001b[0;34m(\u001b[0m\u001b[0murl\u001b[0m\u001b[0;34m,\u001b[0m \u001b[0mheaders\u001b[0m\u001b[0;34m,\u001b[0m \u001b[0mdata\u001b[0m\u001b[0;34m,\u001b[0m \u001b[0mdebug\u001b[0m\u001b[0;34m=\u001b[0m\u001b[0;32mFalse\u001b[0m\u001b[0;34m)\u001b[0m\u001b[0;34m:\u001b[0m\u001b[0;34m\u001b[0m\u001b[0;34m\u001b[0m\u001b[0m\n\u001b[0;32m---> 10\u001b[0;31m     \u001b[0;32mreturn\u001b[0m \u001b[0msanitise\u001b[0m\u001b[0;34m(\u001b[0m\u001b[0mrequests\u001b[0m\u001b[0;34m.\u001b[0m\u001b[0mput\u001b[0m\u001b[0;34m(\u001b[0m\u001b[0murl\u001b[0m\u001b[0;34m=\u001b[0m\u001b[0murl\u001b[0m\u001b[0;34m,\u001b[0m \u001b[0mheaders\u001b[0m\u001b[0;34m=\u001b[0m\u001b[0mheaders\u001b[0m\u001b[0;34m,\u001b[0m \u001b[0mdata\u001b[0m\u001b[0;34m=\u001b[0m\u001b[0mdata\u001b[0m\u001b[0;34m,\u001b[0m \u001b[0mtimeout\u001b[0m\u001b[0;34m=\u001b[0m\u001b[0;36m120\u001b[0m\u001b[0;34m)\u001b[0m\u001b[0;34m,\u001b[0m \u001b[0murl\u001b[0m\u001b[0;34m,\u001b[0m \u001b[0mdebug\u001b[0m\u001b[0;34m)\u001b[0m\u001b[0;34m\u001b[0m\u001b[0;34m\u001b[0m\u001b[0m\n\u001b[0m\u001b[1;32m     11\u001b[0m \u001b[0;34m\u001b[0m\u001b[0m\n\u001b[1;32m     12\u001b[0m \u001b[0;34m\u001b[0m\u001b[0m\n",
      "\u001b[0;32m~/Development/anaconda/envs/dev/lib/python3.6/site-packages/quantutils/core/http.py\u001b[0m in \u001b[0;36msanitise\u001b[0;34m(raw, url, debug)\u001b[0m\n\u001b[1;32m     25\u001b[0m         \u001b[0mprint\u001b[0m\u001b[0;34m(\u001b[0m\u001b[0mraw\u001b[0m\u001b[0;34m)\u001b[0m\u001b[0;34m\u001b[0m\u001b[0;34m\u001b[0m\u001b[0m\n\u001b[1;32m     26\u001b[0m \u001b[0;34m\u001b[0m\u001b[0m\n\u001b[0;32m---> 27\u001b[0;31m     \u001b[0mresponse\u001b[0m \u001b[0;34m=\u001b[0m \u001b[0mjson\u001b[0m\u001b[0;34m.\u001b[0m\u001b[0mloads\u001b[0m\u001b[0;34m(\u001b[0m\u001b[0mraw\u001b[0m\u001b[0;34m.\u001b[0m\u001b[0mtext\u001b[0m\u001b[0;34m)\u001b[0m\u001b[0;34m\u001b[0m\u001b[0;34m\u001b[0m\u001b[0m\n\u001b[0m\u001b[1;32m     28\u001b[0m \u001b[0;34m\u001b[0m\u001b[0m\n\u001b[1;32m     29\u001b[0m     \u001b[0;32mif\u001b[0m \u001b[0mdebug\u001b[0m\u001b[0;34m:\u001b[0m\u001b[0;34m\u001b[0m\u001b[0;34m\u001b[0m\u001b[0m\n",
      "\u001b[0;32m~/Development/anaconda/envs/dev/lib/python3.6/json/__init__.py\u001b[0m in \u001b[0;36mloads\u001b[0;34m(s, encoding, cls, object_hook, parse_float, parse_int, parse_constant, object_pairs_hook, **kw)\u001b[0m\n\u001b[1;32m    352\u001b[0m             \u001b[0mparse_int\u001b[0m \u001b[0;32mis\u001b[0m \u001b[0;32mNone\u001b[0m \u001b[0;32mand\u001b[0m \u001b[0mparse_float\u001b[0m \u001b[0;32mis\u001b[0m \u001b[0;32mNone\u001b[0m \u001b[0;32mand\u001b[0m\u001b[0;34m\u001b[0m\u001b[0;34m\u001b[0m\u001b[0m\n\u001b[1;32m    353\u001b[0m             parse_constant is None and object_pairs_hook is None and not kw):\n\u001b[0;32m--> 354\u001b[0;31m         \u001b[0;32mreturn\u001b[0m \u001b[0m_default_decoder\u001b[0m\u001b[0;34m.\u001b[0m\u001b[0mdecode\u001b[0m\u001b[0;34m(\u001b[0m\u001b[0ms\u001b[0m\u001b[0;34m)\u001b[0m\u001b[0;34m\u001b[0m\u001b[0;34m\u001b[0m\u001b[0m\n\u001b[0m\u001b[1;32m    355\u001b[0m     \u001b[0;32mif\u001b[0m \u001b[0mcls\u001b[0m \u001b[0;32mis\u001b[0m \u001b[0;32mNone\u001b[0m\u001b[0;34m:\u001b[0m\u001b[0;34m\u001b[0m\u001b[0;34m\u001b[0m\u001b[0m\n\u001b[1;32m    356\u001b[0m         \u001b[0mcls\u001b[0m \u001b[0;34m=\u001b[0m \u001b[0mJSONDecoder\u001b[0m\u001b[0;34m\u001b[0m\u001b[0;34m\u001b[0m\u001b[0m\n",
      "\u001b[0;32m~/Development/anaconda/envs/dev/lib/python3.6/json/decoder.py\u001b[0m in \u001b[0;36mdecode\u001b[0;34m(self, s, _w)\u001b[0m\n\u001b[1;32m    337\u001b[0m \u001b[0;34m\u001b[0m\u001b[0m\n\u001b[1;32m    338\u001b[0m         \"\"\"\n\u001b[0;32m--> 339\u001b[0;31m         \u001b[0mobj\u001b[0m\u001b[0;34m,\u001b[0m \u001b[0mend\u001b[0m \u001b[0;34m=\u001b[0m \u001b[0mself\u001b[0m\u001b[0;34m.\u001b[0m\u001b[0mraw_decode\u001b[0m\u001b[0;34m(\u001b[0m\u001b[0ms\u001b[0m\u001b[0;34m,\u001b[0m \u001b[0midx\u001b[0m\u001b[0;34m=\u001b[0m\u001b[0m_w\u001b[0m\u001b[0;34m(\u001b[0m\u001b[0ms\u001b[0m\u001b[0;34m,\u001b[0m \u001b[0;36m0\u001b[0m\u001b[0;34m)\u001b[0m\u001b[0;34m.\u001b[0m\u001b[0mend\u001b[0m\u001b[0;34m(\u001b[0m\u001b[0;34m)\u001b[0m\u001b[0;34m)\u001b[0m\u001b[0;34m\u001b[0m\u001b[0;34m\u001b[0m\u001b[0m\n\u001b[0m\u001b[1;32m    340\u001b[0m         \u001b[0mend\u001b[0m \u001b[0;34m=\u001b[0m \u001b[0m_w\u001b[0m\u001b[0;34m(\u001b[0m\u001b[0ms\u001b[0m\u001b[0;34m,\u001b[0m \u001b[0mend\u001b[0m\u001b[0;34m)\u001b[0m\u001b[0;34m.\u001b[0m\u001b[0mend\u001b[0m\u001b[0;34m(\u001b[0m\u001b[0;34m)\u001b[0m\u001b[0;34m\u001b[0m\u001b[0;34m\u001b[0m\u001b[0m\n\u001b[1;32m    341\u001b[0m         \u001b[0;32mif\u001b[0m \u001b[0mend\u001b[0m \u001b[0;34m!=\u001b[0m \u001b[0mlen\u001b[0m\u001b[0;34m(\u001b[0m\u001b[0ms\u001b[0m\u001b[0;34m)\u001b[0m\u001b[0;34m:\u001b[0m\u001b[0;34m\u001b[0m\u001b[0;34m\u001b[0m\u001b[0m\n",
      "\u001b[0;32m~/Development/anaconda/envs/dev/lib/python3.6/json/decoder.py\u001b[0m in \u001b[0;36mraw_decode\u001b[0;34m(self, s, idx)\u001b[0m\n\u001b[1;32m    355\u001b[0m             \u001b[0mobj\u001b[0m\u001b[0;34m,\u001b[0m \u001b[0mend\u001b[0m \u001b[0;34m=\u001b[0m \u001b[0mself\u001b[0m\u001b[0;34m.\u001b[0m\u001b[0mscan_once\u001b[0m\u001b[0;34m(\u001b[0m\u001b[0ms\u001b[0m\u001b[0;34m,\u001b[0m \u001b[0midx\u001b[0m\u001b[0;34m)\u001b[0m\u001b[0;34m\u001b[0m\u001b[0;34m\u001b[0m\u001b[0m\n\u001b[1;32m    356\u001b[0m         \u001b[0;32mexcept\u001b[0m \u001b[0mStopIteration\u001b[0m \u001b[0;32mas\u001b[0m \u001b[0merr\u001b[0m\u001b[0;34m:\u001b[0m\u001b[0;34m\u001b[0m\u001b[0;34m\u001b[0m\u001b[0m\n\u001b[0;32m--> 357\u001b[0;31m             \u001b[0;32mraise\u001b[0m \u001b[0mJSONDecodeError\u001b[0m\u001b[0;34m(\u001b[0m\u001b[0;34m\"Expecting value\"\u001b[0m\u001b[0;34m,\u001b[0m \u001b[0ms\u001b[0m\u001b[0;34m,\u001b[0m \u001b[0merr\u001b[0m\u001b[0;34m.\u001b[0m\u001b[0mvalue\u001b[0m\u001b[0;34m)\u001b[0m \u001b[0;32mfrom\u001b[0m \u001b[0;32mNone\u001b[0m\u001b[0;34m\u001b[0m\u001b[0;34m\u001b[0m\u001b[0m\n\u001b[0m\u001b[1;32m    358\u001b[0m         \u001b[0;32mreturn\u001b[0m \u001b[0mobj\u001b[0m\u001b[0;34m,\u001b[0m \u001b[0mend\u001b[0m\u001b[0;34m\u001b[0m\u001b[0;34m\u001b[0m\u001b[0m\n",
      "\u001b[0;31mJSONDecodeError\u001b[0m: Expecting value: line 1 column 1 (char 0)"
     ]
    }
   ],
   "source": [
    "mds = MarketDataStore(remote=True, location=\"http://pricestore.192.168.1.203.nip.io\")\n",
    "refreshMarketData(mds, \"../datasources\", \"datasources.json\")"
   ]
  },
  {
   "cell_type": "code",
   "execution_count": 5,
   "metadata": {
    "scrolled": true
   },
   "outputs": [
    {
     "name": "stdout",
     "output_type": "stream",
     "text": [
      "Adding WallSt-hourly-120217.txt to DOW table\n",
      "Converting from Europe/London to UTC\n",
      "Resampling to H periods\n",
      "Appending data...\n",
      "Adding WallSt-hourly-011116.txt to DOW table\n"
     ]
    },
    {
     "name": "stderr",
     "output_type": "stream",
     "text": [
      "/home/cwilkin/Development/anaconda/envs/dev/lib/python3.6/site-packages/tables/path.py:155: NaturalNameWarning: object name is not a valid Python identifier: 'WallSt-hourly'; it does not match the pattern ``^[a-zA-Z_][a-zA-Z0-9_]*$``; you will not be able to use natural naming to access this object; using ``getattr()`` will still work, though\n",
      "  check_attribute_name(name)\n"
     ]
    },
    {
     "name": "stdout",
     "output_type": "stream",
     "text": [
      "Converting from Europe/London to UTC\n",
      "Resampling to H periods\n",
      "Re-writing table data for update...\n",
      "Adding WallSt-hourly-210618.txt to DOW table\n",
      "Converting from Europe/London to UTC\n",
      "Resampling to H periods\n",
      "Appending data...\n",
      "Adding WallSt-hourly-230718.txt to DOW table\n",
      "Converting from Europe/London to UTC\n",
      "Resampling to H periods\n",
      "Appending data...\n",
      "Adding WallSt-hourly-050517.txt to DOW table\n",
      "Converting from Europe/London to UTC\n",
      "Resampling to H periods\n",
      "Re-writing table data for update...\n",
      "Adding WallSt-hourly-140518.txt to DOW table\n",
      "Converting from Europe/London to UTC\n",
      "Resampling to H periods\n",
      "Re-writing table data for update...\n",
      "Adding WallSt-hourly-040417.txt to DOW table\n",
      "Converting from Europe/London to UTC\n",
      "Resampling to H periods\n",
      "Re-writing table data for update...\n",
      "Adding WallSt-hourly-030818.txt to DOW table\n",
      "Converting from Europe/London to UTC\n",
      "Resampling to H periods\n",
      "Re-writing table data for update...\n",
      "Adding WallSt-hourly-160517.txt to DOW table\n",
      "Converting from Europe/London to UTC\n",
      "Resampling to H periods\n",
      "Re-writing table data for update...\n",
      "Adding WallSt-hourly-091116.txt to DOW table\n",
      "Converting from Europe/London to UTC\n",
      "Resampling to H periods\n",
      "Re-writing table data for update...\n",
      "Adding WallSt-hourly-230617.txt to DOW table\n",
      "Converting from Europe/London to UTC\n",
      "Resampling to H periods\n",
      "Re-writing table data for update...\n",
      "Adding WallSt-hourly-200317.txt to DOW table\n",
      "Converting from Europe/London to UTC\n",
      "Resampling to H periods\n",
      "Re-writing table data for update...\n",
      "Adding WallSt-hourly-200318.txt to DOW table\n",
      "Converting from Europe/London to UTC\n",
      "Resampling to H periods\n",
      "Re-writing table data for update...\n",
      "Adding WallSt-hourly-061116.txt to DOW table\n",
      "Converting from Europe/London to UTC\n",
      "Resampling to H periods\n",
      "Re-writing table data for update...\n",
      "Adding WallSt-hourly-050617.txt to DOW table\n",
      "Converting from Europe/London to UTC\n",
      "Resampling to H periods\n",
      "Re-writing table data for update...\n",
      "Adding WallSt-hourly-180418.txt to DOW table\n",
      "Converting from Europe/London to UTC\n",
      "Resampling to H periods\n",
      "Re-writing table data for update...\n",
      "Adding WallSt-hourly-301016.txt to DOW table\n",
      "Converting from Europe/London to UTC\n",
      "Resampling to H periods\n",
      "Re-writing table data for update...\n",
      "Adding WallSt-hourly-021116.txt to DOW table\n",
      "Converting from Europe/London to UTC\n",
      "Resampling to H periods\n",
      "Re-writing table data for update...\n",
      "Adding WallSt-hourly-040618.txt to DOW table\n",
      "Converting from Europe/London to UTC\n",
      "Resampling to H periods\n",
      "Re-writing table data for update...\n",
      "Adding WallSt-hourly-071116.txt to DOW table\n",
      "Converting from Europe/London to UTC\n",
      "Resampling to H periods\n",
      "Re-writing table data for update...\n",
      "Adding SP500-hourly-230617.txt to SPY table\n",
      "Converting from Europe/London to UTC\n",
      "Resampling to H periods\n",
      "Appending data...\n",
      "Adding SP500-hourly-040417.txt to SPY table\n"
     ]
    },
    {
     "name": "stderr",
     "output_type": "stream",
     "text": [
      "/home/cwilkin/Development/anaconda/envs/dev/lib/python3.6/site-packages/tables/path.py:155: NaturalNameWarning: object name is not a valid Python identifier: 'SP500-hourly'; it does not match the pattern ``^[a-zA-Z_][a-zA-Z0-9_]*$``; you will not be able to use natural naming to access this object; using ``getattr()`` will still work, though\n",
      "  check_attribute_name(name)\n"
     ]
    },
    {
     "name": "stdout",
     "output_type": "stream",
     "text": [
      "Converting from Europe/London to UTC\n",
      "Resampling to H periods\n",
      "Re-writing table data for update...\n",
      "Adding SP500-hourly-210618.txt to SPY table\n",
      "Converting from Europe/London to UTC\n",
      "Resampling to H periods\n",
      "Appending data...\n",
      "Adding SP500-hourly-200318.txt to SPY table\n",
      "Converting from Europe/London to UTC\n",
      "Resampling to H periods\n",
      "Re-writing table data for update...\n",
      "Adding SP500-hourly-180418.txt to SPY table\n",
      "Converting from Europe/London to UTC\n",
      "Resampling to H periods\n",
      "Re-writing table data for update...\n",
      "Adding SP500-hourly-140518.txt to SPY table\n",
      "Converting from Europe/London to UTC\n",
      "Resampling to H periods\n",
      "Re-writing table data for update...\n",
      "Adding SP500-hourly-040618.txt to SPY table\n",
      "Converting from Europe/London to UTC\n",
      "Resampling to H periods\n",
      "Re-writing table data for update...\n",
      "Adding SP500-hourly-030818.txt to SPY table\n",
      "Converting from Europe/London to UTC\n",
      "Resampling to H periods\n",
      "Appending data...\n",
      "Adding SP500-hourly-230718.txt to SPY table\n",
      "Converting from Europe/London to UTC\n",
      "Resampling to H periods\n",
      "Re-writing table data for update...\n",
      "Adding SP500-hourly-050517.txt to SPY table\n",
      "Converting from Europe/London to UTC\n",
      "Resampling to H periods\n",
      "Re-writing table data for update...\n",
      "Adding SP500-hourly-050617.txt to SPY table\n",
      "Converting from Europe/London to UTC\n",
      "Resampling to H periods\n",
      "Re-writing table data for update...\n",
      "Adding D&J-IND_150101_170519.csv to DOW table\n",
      "Converting from US/Eastern to UTC\n",
      "Resampling to 5min periods\n",
      "Appending data...\n",
      "Adding D&J-IND_161003_180319.csv to DOW table\n"
     ]
    },
    {
     "name": "stderr",
     "output_type": "stream",
     "text": [
      "/home/cwilkin/Development/anaconda/envs/dev/lib/python3.6/site-packages/tables/path.py:155: NaturalNameWarning: object name is not a valid Python identifier: 'D&J-IND'; it does not match the pattern ``^[a-zA-Z_][a-zA-Z0-9_]*$``; you will not be able to use natural naming to access this object; using ``getattr()`` will still work, though\n",
      "  check_attribute_name(name)\n"
     ]
    },
    {
     "name": "stdout",
     "output_type": "stream",
     "text": [
      "Converting from US/Eastern to UTC\n",
      "Resampling to 5min periods\n",
      "Re-writing table data for update...\n",
      "Adding D&J-IND_130101_141231.csv to DOW table\n",
      "Converting from US/Eastern to UTC\n",
      "Resampling to 5min periods\n",
      "Re-writing table data for update...\n",
      "Adding SANDP-500_161003_180319.csv to SPY table\n",
      "Converting from US/Eastern to UTC\n",
      "Resampling to 5min periods\n",
      "Appending data...\n",
      "Adding SANDP-500_150101_170519.csv to SPY table\n"
     ]
    },
    {
     "name": "stderr",
     "output_type": "stream",
     "text": [
      "/home/cwilkin/Development/anaconda/envs/dev/lib/python3.6/site-packages/tables/path.py:155: NaturalNameWarning: object name is not a valid Python identifier: 'SANDP-500'; it does not match the pattern ``^[a-zA-Z_][a-zA-Z0-9_]*$``; you will not be able to use natural naming to access this object; using ``getattr()`` will still work, though\n",
      "  check_attribute_name(name)\n"
     ]
    },
    {
     "name": "stdout",
     "output_type": "stream",
     "text": [
      "Converting from US/Eastern to UTC\n",
      "Resampling to 5min periods\n",
      "Re-writing table data for update...\n",
      "Adding SANDP-500_130101_141231.csv to SPY table\n",
      "Converting from US/Eastern to UTC\n",
      "Resampling to 5min periods\n",
      "Re-writing table data for update...\n"
     ]
    }
   ],
   "source": [
    "mds = MarketDataStore(location=\"../datasources\")\n",
    "refreshMarketData(mds, \"../datasources\", \"datasources.json\")"
   ]
  },
  {
   "cell_type": "code",
   "execution_count": 4,
   "metadata": {},
   "outputs": [],
   "source": [
    "mds = MarketDataStore(remote=True, location=\"http://pricestore.192.168.1.203.nip.io\")"
   ]
  },
  {
   "cell_type": "code",
   "execution_count": 5,
   "metadata": {},
   "outputs": [
    {
     "name": "stdout",
     "output_type": "stream",
     "text": [
      "http://pricestore.192.168.1.203.nip.io/prices/datasource/D%26J-IND\n",
      "<Response [200]>\n",
      "http://pricestore.192.168.1.203.nip.io/prices/datasource/D%26J-IND\n",
      "{'body': '{\"columns\":[\"Open\",\"High\",\"Low\",\"Close\"],\"index\":[\"2013-01-04T15:00:00.000Z\",\"2013-01-04T16:00:00.000Z\",\"2013-01-04T17:00:00.000Z\"],\"data\":[[13407.46,13411.91,13377.22,13387.45],[13387.37,13420.86,13386.8,13408.33],[13408.2,13415.8,13403.52,13405.06]]}', 'rc': 'success'}\n"
     ]
    }
   ],
   "source": [
    "x = mds.get(\"D%26J-IND\", debug=True)"
   ]
  },
  {
   "cell_type": "code",
   "execution_count": 6,
   "metadata": {},
   "outputs": [
    {
     "data": {
      "text/html": [
       "<div>\n",
       "<style scoped>\n",
       "    .dataframe tbody tr th:only-of-type {\n",
       "        vertical-align: middle;\n",
       "    }\n",
       "\n",
       "    .dataframe tbody tr th {\n",
       "        vertical-align: top;\n",
       "    }\n",
       "\n",
       "    .dataframe thead th {\n",
       "        text-align: right;\n",
       "    }\n",
       "</style>\n",
       "<table border=\"1\" class=\"dataframe\">\n",
       "  <thead>\n",
       "    <tr style=\"text-align: right;\">\n",
       "      <th></th>\n",
       "      <th>Open</th>\n",
       "      <th>High</th>\n",
       "      <th>Low</th>\n",
       "      <th>Close</th>\n",
       "    </tr>\n",
       "  </thead>\n",
       "  <tbody>\n",
       "    <tr>\n",
       "      <th>2013-01-04 15:00:00</th>\n",
       "      <td>13407.46</td>\n",
       "      <td>13411.91</td>\n",
       "      <td>13377.22</td>\n",
       "      <td>13387.45</td>\n",
       "    </tr>\n",
       "    <tr>\n",
       "      <th>2013-01-04 16:00:00</th>\n",
       "      <td>13387.37</td>\n",
       "      <td>13420.86</td>\n",
       "      <td>13386.80</td>\n",
       "      <td>13408.33</td>\n",
       "    </tr>\n",
       "    <tr>\n",
       "      <th>2013-01-04 17:00:00</th>\n",
       "      <td>13408.20</td>\n",
       "      <td>13415.80</td>\n",
       "      <td>13403.52</td>\n",
       "      <td>13405.06</td>\n",
       "    </tr>\n",
       "  </tbody>\n",
       "</table>\n",
       "</div>"
      ],
      "text/plain": [
       "                         Open      High       Low     Close\n",
       "2013-01-04 15:00:00  13407.46  13411.91  13377.22  13387.45\n",
       "2013-01-04 16:00:00  13387.37  13420.86  13386.80  13408.33\n",
       "2013-01-04 17:00:00  13408.20  13415.80  13403.52  13405.06"
      ]
     },
     "execution_count": 6,
     "metadata": {},
     "output_type": "execute_result"
    }
   ],
   "source": [
    "x"
   ]
  },
  {
   "cell_type": "code",
   "execution_count": 10,
   "metadata": {},
   "outputs": [
    {
     "name": "stdout",
     "output_type": "stream",
     "text": [
      "http://localhost:8080/prices/datasource/D%26J-IND?unit=H\n",
      "<Response [500]>\n",
      "http://localhost:8080/prices/datasource/D%26J-IND?unit=H\n",
      "{'message': 'Internal Server Error'}\n"
     ]
    },
    {
     "data": {
      "text/plain": [
       "{'message': 'Internal Server Error'}"
      ]
     },
     "execution_count": 10,
     "metadata": {},
     "output_type": "execute_result"
    }
   ],
   "source": [
    "mds.append(\"D%26J-IND\", x, \"H\", update=False, debug=True)"
   ]
  },
  {
   "cell_type": "code",
   "execution_count": 9,
   "metadata": {},
   "outputs": [],
   "source": [
    "mds = MarketDataStore(remote=True, location=\"http://localhost:8080\")"
   ]
  },
  {
   "cell_type": "code",
   "execution_count": 72,
   "metadata": {},
   "outputs": [],
   "source": [
    "import requests\n",
    "data = x.to_json(orient='split', date_format=\"iso\")\n",
    "data2 = {\"columns\":[\"Open\",\"High\",\"Low\",\"Close\"],\"index\":[\"2013-01-04T15:00:00.000Z\",\"2013-01-04T16:00:00.000Z\",\"2013-01-04T17:00:00.000Z\"],\"data\":[[13407.46,13411.91,13377.22,13387.45],[13387.37,13420.86,13386.8,13408.33],[13408.2,13415.8,13403.52,13405.06]]}\n",
    "headers = {'Content-Type': 'application/json'}\n",
    "url=\"http://pricestore.192.168.1.203.nip.io/prices/datasource/D%26J-IND?unit=H\"\n",
    "r = requests.post(url=url, headers=headers, data=data)"
   ]
  },
  {
   "cell_type": "code",
   "execution_count": 73,
   "metadata": {},
   "outputs": [
    {
     "data": {
      "text/plain": [
       "{'msg': 'Error: Entry already exists for data starting at index 2013-01-04 15:00:00+00:00',\n",
       " 'rc': 'fail'}"
      ]
     },
     "execution_count": 73,
     "metadata": {},
     "output_type": "execute_result"
    }
   ],
   "source": [
    "r.json()"
   ]
  },
  {
   "cell_type": "code",
   "execution_count": 63,
   "metadata": {},
   "outputs": [
    {
     "data": {
      "text/plain": [
       "'{\"columns\": [\"Open\", \"High\", \"Low\", \"Close\"], \"index\": [\"2013-01-04T15:00:00.000Z\", \"2013-01-04T16:00:00.000Z\", \"2013-01-04T17:00:00.000Z\"], \"data\": [[13407.46, 13411.91, 13377.22, 13387.45], [13387.37, 13420.86, 13386.8, 13408.33], [13408.2, 13415.8, 13403.52, 13405.06]]}'"
      ]
     },
     "execution_count": 63,
     "metadata": {},
     "output_type": "execute_result"
    }
   ],
   "source": [
    "json.dumps(json.loads(data))"
   ]
  },
  {
   "cell_type": "code",
   "execution_count": 65,
   "metadata": {},
   "outputs": [
    {
     "data": {
      "text/plain": [
       "'{\"columns\":[\"Open\",\"High\",\"Low\",\"Close\"],\"index\":[\"2013-01-04T15:00:00.000Z\",\"2013-01-04T16:00:00.000Z\",\"2013-01-04T17:00:00.000Z\"],\"data\":[[13407.46,13411.91,13377.22,13387.45],[13387.37,13420.86,13386.8,13408.33],[13408.2,13415.8,13403.52,13405.06]]}'"
      ]
     },
     "execution_count": 65,
     "metadata": {},
     "output_type": "execute_result"
    }
   ],
   "source": [
    "data"
   ]
  },
  {
   "cell_type": "code",
   "execution_count": null,
   "metadata": {},
   "outputs": [],
   "source": []
  }
 ],
 "metadata": {
  "kernelspec": {
   "display_name": "Python 3",
   "language": "python",
   "name": "python3"
  },
  "language_info": {
   "codemirror_mode": {
    "name": "ipython",
    "version": 3
   },
   "file_extension": ".py",
   "mimetype": "text/x-python",
   "name": "python",
   "nbconvert_exporter": "python",
   "pygments_lexer": "ipython3",
   "version": "3.6.9"
  }
 },
 "nbformat": 4,
 "nbformat_minor": 1
}
