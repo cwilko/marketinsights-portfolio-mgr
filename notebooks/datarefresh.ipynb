{
 "cells": [
  {
   "cell_type": "markdown",
   "metadata": {},
   "source": [
    "### Market data refresh \n",
    "\n",
    "### Input Description\n",
    "\n",
    "RAW OHLC data.\n",
    "\n",
    "### Output  \n",
    "\n",
    "Clean OHLC data in a hdf store\n",
    "\n",
    "### Operations\n",
    "\n",
    "This code takes a financial market data file and runs it through a processing pipeline. The following operations are carried out :\n",
    "\n",
    "- Localise the time data to market time\n",
    "- Merge with existing RAW data based on datetime\n",
    "- Save the resulting RAW data to HDF5"
   ]
  },
  {
   "cell_type": "code",
   "execution_count": 1,
   "metadata": {
    "pixiedust": {
     "displayParams": {}
    }
   },
   "outputs": [
    {
     "name": "stdout",
     "output_type": "stream",
     "text": [
      "\u001b[33mWARNING: Ignoring invalid distribution -ensorflow (/home/cwilkin/Development/anaconda/envs/dev/lib/python3.6/site-packages)\u001b[0m\n",
      "\u001b[33mWARNING: Ignoring invalid distribution -ensorflow (/home/cwilkin/Development/anaconda/envs/dev/lib/python3.6/site-packages)\u001b[0m\n",
      "Processing /home/cwilkin/Development/repos/quantutils\n",
      "\u001b[33m  DEPRECATION: A future pip version will change local packages to be built in-place without first copying to a temporary directory. We recommend you use --use-feature=in-tree-build to test your packages with this new behavior before it becomes the default.\n",
      "   pip 21.3 will remove support for this functionality. You can find discussion regarding this at https://github.com/pypa/pip/issues/7555.\u001b[0m\n",
      "Requirement already satisfied: pytz>=2018.4 in /home/cwilkin/Development/anaconda/envs/dev/lib/python3.6/site-packages (from quantutils==1.0.0) (2018.4)\n",
      "Requirement already satisfied: numpy>=1.14.3 in /home/cwilkin/Development/anaconda/envs/dev/lib/python3.6/site-packages (from quantutils==1.0.0) (1.19.1)\n",
      "Requirement already satisfied: toolz>=0.9.0 in /home/cwilkin/Development/anaconda/envs/dev/lib/python3.6/site-packages (from quantutils==1.0.0) (0.9.0)\n",
      "Requirement already satisfied: matplotlib>=2.2.2 in /home/cwilkin/Development/anaconda/envs/dev/lib/python3.6/site-packages (from quantutils==1.0.0) (2.2.2)\n",
      "Requirement already satisfied: statsmodels>=0.9.0 in /home/cwilkin/Development/anaconda/envs/dev/lib/python3.6/site-packages (from quantutils==1.0.0) (0.11.1)\n",
      "Requirement already satisfied: pandas>=0.23.0 in /home/cwilkin/Development/anaconda/envs/dev/lib/python3.6/site-packages (from quantutils==1.0.0) (0.23.4)\n",
      "Requirement already satisfied: setuptools>=39.1.0 in /home/cwilkin/Development/anaconda/envs/dev/lib/python3.6/site-packages (from quantutils==1.0.0) (50.3.2)\n",
      "Requirement already satisfied: scipy>=1.1.0 in /home/cwilkin/Development/anaconda/envs/dev/lib/python3.6/site-packages (from quantutils==1.0.0) (1.2.0)\n",
      "Requirement already satisfied: python_dateutil>=2.7.3 in /home/cwilkin/Development/anaconda/envs/dev/lib/python3.6/site-packages (from quantutils==1.0.0) (2.7.3)\n",
      "Requirement already satisfied: mpl_finance>=0.10.0 in /home/cwilkin/Development/anaconda/envs/dev/lib/python3.6/site-packages (from quantutils==1.0.0) (0.10.0)\n",
      "Requirement already satisfied: plotly>=3.1.1 in /home/cwilkin/Development/anaconda/envs/dev/lib/python3.6/site-packages (from quantutils==1.0.0) (3.1.1)\n",
      "Requirement already satisfied: tensorflow==1.3.0 in /home/cwilkin/Development/anaconda/envs/dev/lib/python3.6/site-packages (from quantutils==1.0.0) (1.3.0)\n",
      "Requirement already satisfied: six>=1.10.0 in /home/cwilkin/Development/anaconda/envs/dev/lib/python3.6/site-packages (from tensorflow==1.3.0->quantutils==1.0.0) (1.15.0)\n",
      "Requirement already satisfied: protobuf>=3.3.0 in /home/cwilkin/Development/anaconda/envs/dev/lib/python3.6/site-packages (from tensorflow==1.3.0->quantutils==1.0.0) (3.13.0)\n",
      "Requirement already satisfied: tensorflow-tensorboard<0.2.0,>=0.1.0 in /home/cwilkin/Development/anaconda/envs/dev/lib/python3.6/site-packages (from tensorflow==1.3.0->quantutils==1.0.0) (0.1.8)\n",
      "Requirement already satisfied: wheel>=0.26 in /home/cwilkin/Development/anaconda/envs/dev/lib/python3.6/site-packages (from tensorflow==1.3.0->quantutils==1.0.0) (0.34.2)\n",
      "Requirement already satisfied: cycler>=0.10 in /home/cwilkin/Development/anaconda/envs/dev/lib/python3.6/site-packages (from matplotlib>=2.2.2->quantutils==1.0.0) (0.10.0)\n",
      "Requirement already satisfied: kiwisolver>=1.0.1 in /home/cwilkin/Development/anaconda/envs/dev/lib/python3.6/site-packages (from matplotlib>=2.2.2->quantutils==1.0.0) (1.0.1)\n",
      "Requirement already satisfied: pyparsing!=2.0.4,!=2.1.2,!=2.1.6,>=2.0.1 in /home/cwilkin/Development/anaconda/envs/dev/lib/python3.6/site-packages (from matplotlib>=2.2.2->quantutils==1.0.0) (2.2.0)\n",
      "Requirement already satisfied: nbformat>=4.2 in /home/cwilkin/Development/anaconda/envs/dev/lib/python3.6/site-packages (from plotly>=3.1.1->quantutils==1.0.0) (4.4.0)\n",
      "Requirement already satisfied: requests in /home/cwilkin/Development/anaconda/envs/dev/lib/python3.6/site-packages (from plotly>=3.1.1->quantutils==1.0.0) (2.23.0)\n",
      "Requirement already satisfied: decorator>=4.0.6 in /home/cwilkin/Development/anaconda/envs/dev/lib/python3.6/site-packages (from plotly>=3.1.1->quantutils==1.0.0) (4.3.0)\n",
      "Requirement already satisfied: retrying>=1.3.3 in /home/cwilkin/Development/anaconda/envs/dev/lib/python3.6/site-packages (from plotly>=3.1.1->quantutils==1.0.0) (1.3.3)\n",
      "Requirement already satisfied: traitlets>=4.1 in /home/cwilkin/Development/anaconda/envs/dev/lib/python3.6/site-packages (from nbformat>=4.2->plotly>=3.1.1->quantutils==1.0.0) (4.3.2)\n",
      "Requirement already satisfied: jsonschema!=2.5.0,>=2.4 in /home/cwilkin/Development/anaconda/envs/dev/lib/python3.6/site-packages (from nbformat>=4.2->plotly>=3.1.1->quantutils==1.0.0) (2.6.0)\n",
      "Requirement already satisfied: jupyter-core in /home/cwilkin/Development/anaconda/envs/dev/lib/python3.6/site-packages (from nbformat>=4.2->plotly>=3.1.1->quantutils==1.0.0) (4.4.0)\n",
      "Requirement already satisfied: ipython-genutils in /home/cwilkin/Development/anaconda/envs/dev/lib/python3.6/site-packages (from nbformat>=4.2->plotly>=3.1.1->quantutils==1.0.0) (0.2.0)\n",
      "Requirement already satisfied: patsy>=0.5 in /home/cwilkin/Development/anaconda/envs/dev/lib/python3.6/site-packages (from statsmodels>=0.9.0->quantutils==1.0.0) (0.5.0)\n",
      "Requirement already satisfied: werkzeug>=0.11.10 in /home/cwilkin/Development/anaconda/envs/dev/lib/python3.6/site-packages (from tensorflow-tensorboard<0.2.0,>=0.1.0->tensorflow==1.3.0->quantutils==1.0.0) (0.16.1)\n",
      "Requirement already satisfied: bleach==1.5.0 in /home/cwilkin/Development/anaconda/envs/dev/lib/python3.6/site-packages (from tensorflow-tensorboard<0.2.0,>=0.1.0->tensorflow==1.3.0->quantutils==1.0.0) (1.5.0)\n",
      "Requirement already satisfied: markdown>=2.6.8 in /home/cwilkin/Development/anaconda/envs/dev/lib/python3.6/site-packages (from tensorflow-tensorboard<0.2.0,>=0.1.0->tensorflow==1.3.0->quantutils==1.0.0) (3.3.3)\n",
      "Requirement already satisfied: html5lib==0.9999999 in /home/cwilkin/Development/anaconda/envs/dev/lib/python3.6/site-packages (from tensorflow-tensorboard<0.2.0,>=0.1.0->tensorflow==1.3.0->quantutils==1.0.0) (0.9999999)\n",
      "Requirement already satisfied: importlib-metadata in /home/cwilkin/Development/anaconda/envs/dev/lib/python3.6/site-packages (from markdown>=2.6.8->tensorflow-tensorboard<0.2.0,>=0.1.0->tensorflow==1.3.0->quantutils==1.0.0) (2.0.0)\n",
      "Requirement already satisfied: zipp>=0.5 in /home/cwilkin/Development/anaconda/envs/dev/lib/python3.6/site-packages (from importlib-metadata->markdown>=2.6.8->tensorflow-tensorboard<0.2.0,>=0.1.0->tensorflow==1.3.0->quantutils==1.0.0) (3.4.0)\n",
      "Requirement already satisfied: chardet<4,>=3.0.2 in /home/cwilkin/Development/anaconda/envs/dev/lib/python3.6/site-packages (from requests->plotly>=3.1.1->quantutils==1.0.0) (3.0.4)\n",
      "Requirement already satisfied: idna<3,>=2.5 in /home/cwilkin/Development/anaconda/envs/dev/lib/python3.6/site-packages (from requests->plotly>=3.1.1->quantutils==1.0.0) (2.6)\n",
      "Requirement already satisfied: urllib3!=1.25.0,!=1.25.1,<1.26,>=1.21.1 in /home/cwilkin/Development/anaconda/envs/dev/lib/python3.6/site-packages (from requests->plotly>=3.1.1->quantutils==1.0.0) (1.25.11)\n",
      "Requirement already satisfied: certifi>=2017.4.17 in /home/cwilkin/Development/anaconda/envs/dev/lib/python3.6/site-packages (from requests->plotly>=3.1.1->quantutils==1.0.0) (2020.6.20)\n",
      "Building wheels for collected packages: quantutils\n",
      "  Building wheel for quantutils (setup.py) ... \u001b[?25ldone\n",
      "\u001b[?25h  Created wheel for quantutils: filename=quantutils-1.0.0-py3-none-any.whl size=29193 sha256=a45ea136024aec0590a18744a0684bbf30d44022d66301f750a371f26c094a8d\n",
      "  Stored in directory: /tmp/pip-ephem-wheel-cache-qg681j46/wheels/a1/ee/01/ed970b0d78c74b7e3103a650d2418193504e98f029d8c8916c\n",
      "Successfully built quantutils\n",
      "\u001b[33mWARNING: Ignoring invalid distribution -ensorflow (/home/cwilkin/Development/anaconda/envs/dev/lib/python3.6/site-packages)\u001b[0m\n",
      "Installing collected packages: quantutils\n",
      "  Attempting uninstall: quantutils\n",
      "\u001b[33m    WARNING: Ignoring invalid distribution -ensorflow (/home/cwilkin/Development/anaconda/envs/dev/lib/python3.6/site-packages)\u001b[0m\n",
      "    Found existing installation: quantutils 1.0.0\n",
      "    Uninstalling quantutils-1.0.0:\n",
      "      Successfully uninstalled quantutils-1.0.0\n"
     ]
    },
    {
     "name": "stdout",
     "output_type": "stream",
     "text": [
      "\u001b[33mWARNING: Ignoring invalid distribution -ensorflow (/home/cwilkin/Development/anaconda/envs/dev/lib/python3.6/site-packages)\u001b[0m\r\n",
      "Successfully installed quantutils-1.0.0\r\n",
      "\u001b[33mWARNING: Ignoring invalid distribution -ensorflow (/home/cwilkin/Development/anaconda/envs/dev/lib/python3.6/site-packages)\u001b[0m\r\n",
      "\u001b[33mWARNING: Ignoring invalid distribution -ensorflow (/home/cwilkin/Development/anaconda/envs/dev/lib/python3.6/site-packages)\u001b[0m\r\n"
     ]
    }
   ],
   "source": [
    "!pip install \"../quantutils\"\n",
    "from quantutils.api.datasource import MarketDataStore\n",
    "mds = MarketDataStore(\"./datasources\", \"datasources.json\")"
   ]
  },
  {
   "cell_type": "code",
   "execution_count": 2,
   "metadata": {
    "pixiedust": {
     "displayParams": {}
    },
    "scrolled": false
   },
   "outputs": [
    {
     "name": "stdout",
     "output_type": "stream",
     "text": [
      "Adding WallSt-hourly-120217.txt to DOW table\n",
      "Converting from Europe/London to UTC\n",
      "Resampling to H periods\n",
      "Appending data...\n",
      "Adding WallSt-hourly-011116.txt to DOW table\n"
     ]
    },
    {
     "name": "stderr",
     "output_type": "stream",
     "text": [
      "/home/cwilkin/Development/anaconda/envs/dev/lib/python3.6/site-packages/tables/path.py:155: NaturalNameWarning: object name is not a valid Python identifier: 'WallSt-hourly'; it does not match the pattern ``^[a-zA-Z_][a-zA-Z0-9_]*$``; you will not be able to use natural naming to access this object; using ``getattr()`` will still work, though\n",
      "  check_attribute_name(name)\n"
     ]
    },
    {
     "name": "stdout",
     "output_type": "stream",
     "text": [
      "Converting from Europe/London to UTC\n",
      "Merging data...\n",
      "Resampling to H periods\n",
      "Re-writing table data for update...\n",
      "Adding WallSt-hourly-210618.txt to DOW table\n",
      "Converting from Europe/London to UTC\n",
      "Merging data...\n",
      "Resampling to H periods\n",
      "Appending data...\n",
      "Adding WallSt-hourly-230718.txt to DOW table\n",
      "Converting from Europe/London to UTC\n",
      "Merging data...\n",
      "Resampling to H periods\n",
      "Appending data...\n",
      "Adding WallSt-hourly-050517.txt to DOW table\n",
      "Converting from Europe/London to UTC\n",
      "Merging data...\n",
      "Resampling to H periods\n",
      "Re-writing table data for update...\n",
      "Adding WallSt-hourly-140518.txt to DOW table\n",
      "Converting from Europe/London to UTC\n",
      "Merging data...\n",
      "Resampling to H periods\n",
      "Re-writing table data for update...\n",
      "Adding WallSt-hourly-040417.txt to DOW table\n",
      "Converting from Europe/London to UTC\n",
      "Merging data...\n",
      "Resampling to H periods\n",
      "Re-writing table data for update...\n",
      "Adding WallSt-hourly-030818.txt to DOW table\n",
      "Converting from Europe/London to UTC\n",
      "Merging data...\n",
      "Resampling to H periods\n",
      "Re-writing table data for update...\n",
      "Adding WallSt-hourly-160517.txt to DOW table\n",
      "Converting from Europe/London to UTC\n",
      "Merging data...\n",
      "Resampling to H periods\n",
      "Re-writing table data for update...\n",
      "Adding WallSt-hourly-091116.txt to DOW table\n",
      "Converting from Europe/London to UTC\n",
      "Merging data...\n",
      "Resampling to H periods\n",
      "Re-writing table data for update...\n",
      "Adding WallSt-hourly-230617.txt to DOW table\n",
      "Converting from Europe/London to UTC\n",
      "Merging data...\n",
      "Resampling to H periods\n",
      "Re-writing table data for update...\n",
      "Adding WallSt-hourly-200317.txt to DOW table\n",
      "Converting from Europe/London to UTC\n",
      "Merging data...\n",
      "Resampling to H periods\n",
      "Re-writing table data for update...\n",
      "Adding WallSt-hourly-200318.txt to DOW table\n",
      "Converting from Europe/London to UTC\n",
      "Merging data...\n",
      "Resampling to H periods\n",
      "Re-writing table data for update...\n",
      "Adding WallSt-hourly-061116.txt to DOW table\n",
      "Converting from Europe/London to UTC\n",
      "Merging data...\n",
      "Resampling to H periods\n",
      "Re-writing table data for update...\n",
      "Adding WallSt-hourly-050617.txt to DOW table\n",
      "Converting from Europe/London to UTC\n",
      "Merging data...\n",
      "Resampling to H periods\n",
      "Re-writing table data for update...\n",
      "Adding WallSt-hourly-180418.txt to DOW table\n",
      "Converting from Europe/London to UTC\n",
      "Merging data...\n",
      "Resampling to H periods\n",
      "Re-writing table data for update...\n",
      "Adding WallSt-hourly-301016.txt to DOW table\n",
      "Converting from Europe/London to UTC\n",
      "Merging data...\n",
      "Resampling to H periods\n",
      "Re-writing table data for update...\n",
      "Adding WallSt-hourly-021116.txt to DOW table\n",
      "Converting from Europe/London to UTC\n",
      "Merging data...\n",
      "Resampling to H periods\n",
      "Re-writing table data for update...\n",
      "Adding WallSt-hourly-040618.txt to DOW table\n",
      "Converting from Europe/London to UTC\n",
      "Merging data...\n",
      "Resampling to H periods\n",
      "Re-writing table data for update...\n",
      "Adding WallSt-hourly-071116.txt to DOW table\n",
      "Converting from Europe/London to UTC\n",
      "Merging data...\n",
      "Resampling to H periods\n",
      "Re-writing table data for update...\n",
      "Adding SP500-hourly-230617.txt to SPY table\n",
      "Converting from Europe/London to UTC\n",
      "Resampling to H periods\n",
      "Appending data...\n",
      "Adding SP500-hourly-040417.txt to SPY table\n"
     ]
    },
    {
     "name": "stderr",
     "output_type": "stream",
     "text": [
      "/home/cwilkin/Development/anaconda/envs/dev/lib/python3.6/site-packages/tables/path.py:155: NaturalNameWarning: object name is not a valid Python identifier: 'SP500-hourly'; it does not match the pattern ``^[a-zA-Z_][a-zA-Z0-9_]*$``; you will not be able to use natural naming to access this object; using ``getattr()`` will still work, though\n",
      "  check_attribute_name(name)\n"
     ]
    },
    {
     "name": "stdout",
     "output_type": "stream",
     "text": [
      "Converting from Europe/London to UTC\n",
      "Merging data...\n",
      "Resampling to H periods\n",
      "Re-writing table data for update...\n",
      "Adding SP500-hourly-210618.txt to SPY table\n",
      "Converting from Europe/London to UTC\n",
      "Merging data...\n",
      "Resampling to H periods\n",
      "Appending data...\n",
      "Adding SP500-hourly-200318.txt to SPY table\n",
      "Converting from Europe/London to UTC\n",
      "Merging data...\n",
      "Resampling to H periods\n",
      "Re-writing table data for update...\n",
      "Adding SP500-hourly-180418.txt to SPY table\n",
      "Converting from Europe/London to UTC\n",
      "Merging data...\n",
      "Resampling to H periods\n",
      "Re-writing table data for update...\n",
      "Adding SP500-hourly-140518.txt to SPY table\n",
      "Converting from Europe/London to UTC\n",
      "Merging data...\n",
      "Resampling to H periods\n",
      "Re-writing table data for update...\n",
      "Adding SP500-hourly-040618.txt to SPY table\n",
      "Converting from Europe/London to UTC\n",
      "Merging data...\n",
      "Resampling to H periods\n",
      "Re-writing table data for update...\n",
      "Adding SP500-hourly-030818.txt to SPY table\n",
      "Converting from Europe/London to UTC\n",
      "Merging data...\n",
      "Resampling to H periods\n",
      "Appending data...\n",
      "Adding SP500-hourly-230718.txt to SPY table\n",
      "Converting from Europe/London to UTC\n",
      "Merging data...\n",
      "Resampling to H periods\n",
      "Re-writing table data for update...\n",
      "Adding SP500-hourly-050517.txt to SPY table\n",
      "Converting from Europe/London to UTC\n",
      "Merging data...\n",
      "Resampling to H periods\n",
      "Re-writing table data for update...\n",
      "Adding SP500-hourly-050617.txt to SPY table\n",
      "Converting from Europe/London to UTC\n",
      "Merging data...\n",
      "Resampling to H periods\n",
      "Re-writing table data for update...\n",
      "Adding D&J-IND_150101_170519.csv to DOW table\n",
      "Converting from US/Eastern to UTC\n",
      "Resampling to 5min periods\n",
      "Appending data...\n",
      "Adding D&J-IND_161003_180319.csv to DOW table\n"
     ]
    },
    {
     "name": "stderr",
     "output_type": "stream",
     "text": [
      "/home/cwilkin/Development/anaconda/envs/dev/lib/python3.6/site-packages/tables/path.py:155: NaturalNameWarning: object name is not a valid Python identifier: 'D&J-IND'; it does not match the pattern ``^[a-zA-Z_][a-zA-Z0-9_]*$``; you will not be able to use natural naming to access this object; using ``getattr()`` will still work, though\n",
      "  check_attribute_name(name)\n"
     ]
    },
    {
     "name": "stdout",
     "output_type": "stream",
     "text": [
      "Converting from US/Eastern to UTC\n",
      "Merging data...\n",
      "Resampling to 5min periods\n",
      "Re-writing table data for update...\n",
      "Adding D&J-IND_130101_141231.csv to DOW table\n",
      "Converting from US/Eastern to UTC\n",
      "Merging data...\n",
      "Resampling to 5min periods\n",
      "Re-writing table data for update...\n",
      "Adding SANDP-500_161003_180319.csv to SPY table\n",
      "Converting from US/Eastern to UTC\n",
      "Resampling to 5min periods\n",
      "Appending data...\n",
      "Adding SANDP-500_150101_170519.csv to SPY table\n"
     ]
    },
    {
     "name": "stderr",
     "output_type": "stream",
     "text": [
      "/home/cwilkin/Development/anaconda/envs/dev/lib/python3.6/site-packages/tables/path.py:155: NaturalNameWarning: object name is not a valid Python identifier: 'SANDP-500'; it does not match the pattern ``^[a-zA-Z_][a-zA-Z0-9_]*$``; you will not be able to use natural naming to access this object; using ``getattr()`` will still work, though\n",
      "  check_attribute_name(name)\n"
     ]
    },
    {
     "name": "stdout",
     "output_type": "stream",
     "text": [
      "Converting from US/Eastern to UTC\n",
      "Merging data...\n",
      "Resampling to 5min periods\n",
      "Re-writing table data for update...\n",
      "Adding SANDP-500_130101_141231.csv to SPY table\n",
      "Converting from US/Eastern to UTC\n",
      "Merging data...\n",
      "Resampling to 5min periods\n",
      "Re-writing table data for update...\n"
     ]
    }
   ],
   "source": [
    "mds.refreshMarketData()"
   ]
  }
 ],
 "metadata": {
  "kernelspec": {
   "display_name": "Python 3",
   "language": "python",
   "name": "python3"
  },
  "language_info": {
   "codemirror_mode": {
    "name": "ipython",
    "version": 3
   },
   "file_extension": ".py",
   "mimetype": "text/x-python",
   "name": "python",
   "nbconvert_exporter": "python",
   "pygments_lexer": "ipython3",
   "version": "3.6.9"
  }
 },
 "nbformat": 4,
 "nbformat_minor": 1
}
