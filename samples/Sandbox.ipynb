{
 "cells": [
  {
   "cell_type": "code",
   "execution_count": 1,
   "metadata": {
    "scrolled": false
   },
   "outputs": [
    {
     "name": "stdout",
     "output_type": "stream",
     "text": [
      "Pixiedust database opened successfully\n"
     ]
    },
    {
     "data": {
      "text/html": [
       "\n",
       "        <div style=\"margin:10px\">\n",
       "            <a href=\"https://github.com/ibm-watson-data-lab/pixiedust\" target=\"_new\">\n",
       "                <img src=\"https://github.com/ibm-watson-data-lab/pixiedust/raw/master/docs/_static/pd_icon32.png\" style=\"float:left;margin-right:10px\"/>\n",
       "            </a>\n",
       "            <span>Pixiedust version 1.1.18</span>\n",
       "        </div>\n",
       "        "
      ],
      "text/plain": [
       "<IPython.core.display.HTML object>"
      ]
     },
     "metadata": {},
     "output_type": "display_data"
    },
    {
     "data": {
      "text/html": [
       "<div>Warning: You are not running the latest version of PixieDust. Current is 1.1.18, Latest is 1.1.19</div>"
      ],
      "text/plain": [
       "<IPython.core.display.HTML object>"
      ]
     },
     "metadata": {},
     "output_type": "display_data"
    },
    {
     "data": {
      "text/html": [
       "\n",
       "                <div>Please copy and run the following command in a new cell to upgrade: <span style=\"background-color:#ececec;font-family:monospace;padding:0 5px\">!pip install --user --upgrade pixiedust</span></div>\n",
       "            "
      ],
      "text/plain": [
       "<IPython.core.display.HTML object>"
      ]
     },
     "metadata": {},
     "output_type": "display_data"
    },
    {
     "data": {
      "text/html": [
       "<div>Please restart kernel after upgrading.</div>"
      ],
      "text/plain": [
       "<IPython.core.display.HTML object>"
      ]
     },
     "metadata": {},
     "output_type": "display_data"
    },
    {
     "name": "stderr",
     "output_type": "stream",
     "text": [
      "/home/cwilkin/Development/anaconda/envs/dev/lib/python3.6/importlib/_bootstrap.py:219: RuntimeWarning: numpy.ufunc size changed, may indicate binary incompatibility. Expected 192 from C header, got 216 from PyObject\n",
      "  return f(*args, **kwds)\n",
      "/home/cwilkin/Development/anaconda/envs/dev/lib/python3.6/site-packages/pyfolio/pos.py:28: UserWarning: Module \"zipline.assets\" not found; mutltipliers will not be applied to position notionals.\n",
      "  ' to position notionals.'\n",
      "/home/cwilkin/Development/anaconda/envs/dev/lib/python3.6/importlib/_bootstrap.py:219: RuntimeWarning: numpy.ufunc size changed, may indicate binary incompatibility. Expected 216, got 192\n",
      "  return f(*args, **kwds)\n",
      "/home/cwilkin/Development/anaconda/envs/dev/lib/python3.6/importlib/_bootstrap.py:219: RuntimeWarning: numpy.ufunc size changed, may indicate binary incompatibility. Expected 216, got 192\n",
      "  return f(*args, **kwds)\n"
     ]
    }
   ],
   "source": [
    "import pixiedust\n",
    "#!pip install --upgrade ~/Development/repos/quantutils\n",
    "#!pip install --upgrade ~/Development/repos/tradeframework\n",
    "\n",
    "\n",
    "# import utilities\n",
    "from quantutils.api.datasource import MarketDataStore\n",
    "from quantutils.api.auth import CredentialsStore\n",
    "import quantutils.dataset.pipeline as ppl\n",
    "\n",
    "#import tradeframework\n",
    "from tradeframework.api import Derivative, Optimizer, Model, TradeEnvironment, TradeEngine, Asset\n",
    "from tradeframework.environments import SandboxEnvironment, ZiplineEnvironment\n",
    "from tradeframework.models import PreOpenMomentum\n",
    "import tradeframework.operations.trader as trader\n",
    "import tradeframework.operations.utils as utils\n",
    "\n",
    "# Development\n",
    "import pandas\n",
    "import numpy as np\n",
    "\n",
    "\n",
    "%matplotlib inline"
   ]
  },
  {
   "cell_type": "code",
   "execution_count": 13,
   "metadata": {
    "scrolled": false
   },
   "outputs": [],
   "source": [
    "## Get Market Data\n",
    "\n",
    "mds = MarketDataStore(remote=True, location=\"http://pricestore.192.168.1.203.nip.io\")\n",
    "\n",
    "marketData = mds.aggregate(\"2013-01-01\", \"2013-07-11\", [\"WallSt-hourly\",\"D%26J-IND\"],\"H\")\n",
    "ts = ppl.removeNaNs(marketData)\n",
    "ts.index = ts.index.tz_localize('UTC')\n",
    "\n",
    "sample1 = ts[5:10].copy()\n",
    "sample2 = ts[12:15].copy()\n",
    "sample3 = ts[:5].copy()"
   ]
  },
  {
   "cell_type": "code",
   "execution_count": 16,
   "metadata": {},
   "outputs": [
    {
     "data": {
      "text/html": [
       "<div>\n",
       "<style scoped>\n",
       "    .dataframe tbody tr th:only-of-type {\n",
       "        vertical-align: middle;\n",
       "    }\n",
       "\n",
       "    .dataframe tbody tr th {\n",
       "        vertical-align: top;\n",
       "    }\n",
       "\n",
       "    .dataframe thead th {\n",
       "        text-align: right;\n",
       "    }\n",
       "</style>\n",
       "<table border=\"1\" class=\"dataframe\">\n",
       "  <thead>\n",
       "    <tr style=\"text-align: right;\">\n",
       "      <th></th>\n",
       "      <th>Open</th>\n",
       "      <th>High</th>\n",
       "      <th>Low</th>\n",
       "      <th>Close</th>\n",
       "    </tr>\n",
       "  </thead>\n",
       "  <tbody>\n",
       "    <tr>\n",
       "      <th>2013-01-02 15:00:00+00:00</th>\n",
       "      <td>13366.48</td>\n",
       "      <td>13374.82</td>\n",
       "      <td>13338.68</td>\n",
       "      <td>13345.45</td>\n",
       "    </tr>\n",
       "    <tr>\n",
       "      <th>2013-01-02 16:00:00+00:00</th>\n",
       "      <td>13345.60</td>\n",
       "      <td>13353.75</td>\n",
       "      <td>13321.64</td>\n",
       "      <td>13321.77</td>\n",
       "    </tr>\n",
       "    <tr>\n",
       "      <th>2013-01-02 17:00:00+00:00</th>\n",
       "      <td>13321.76</td>\n",
       "      <td>13339.25</td>\n",
       "      <td>13320.28</td>\n",
       "      <td>13326.66</td>\n",
       "    </tr>\n",
       "    <tr>\n",
       "      <th>2013-01-02 18:00:00+00:00</th>\n",
       "      <td>13326.64</td>\n",
       "      <td>13336.06</td>\n",
       "      <td>13322.51</td>\n",
       "      <td>13329.19</td>\n",
       "    </tr>\n",
       "    <tr>\n",
       "      <th>2013-01-02 19:00:00+00:00</th>\n",
       "      <td>13329.09</td>\n",
       "      <td>13339.82</td>\n",
       "      <td>13318.19</td>\n",
       "      <td>13331.80</td>\n",
       "    </tr>\n",
       "  </tbody>\n",
       "</table>\n",
       "</div>"
      ],
      "text/plain": [
       "                               Open      High       Low     Close\n",
       "2013-01-02 15:00:00+00:00  13366.48  13374.82  13338.68  13345.45\n",
       "2013-01-02 16:00:00+00:00  13345.60  13353.75  13321.64  13321.77\n",
       "2013-01-02 17:00:00+00:00  13321.76  13339.25  13320.28  13326.66\n",
       "2013-01-02 18:00:00+00:00  13326.64  13336.06  13322.51  13329.19\n",
       "2013-01-02 19:00:00+00:00  13329.09  13339.82  13318.19  13331.80"
      ]
     },
     "execution_count": 16,
     "metadata": {},
     "output_type": "execute_result"
    }
   ],
   "source": [
    "sample3"
   ]
  },
  {
   "cell_type": "code",
   "execution_count": 11,
   "metadata": {
    "scrolled": true
   },
   "outputs": [
    {
     "data": {
      "text/html": [
       "<div>\n",
       "<style scoped>\n",
       "    .dataframe tbody tr th:only-of-type {\n",
       "        vertical-align: middle;\n",
       "    }\n",
       "\n",
       "    .dataframe tbody tr th {\n",
       "        vertical-align: top;\n",
       "    }\n",
       "\n",
       "    .dataframe thead th {\n",
       "        text-align: right;\n",
       "    }\n",
       "</style>\n",
       "<table border=\"1\" class=\"dataframe\">\n",
       "  <thead>\n",
       "    <tr style=\"text-align: right;\">\n",
       "      <th></th>\n",
       "      <th>Open</th>\n",
       "      <th>High</th>\n",
       "      <th>Low</th>\n",
       "      <th>Close</th>\n",
       "    </tr>\n",
       "    <tr>\n",
       "      <th>Date_Time</th>\n",
       "      <th></th>\n",
       "      <th></th>\n",
       "      <th></th>\n",
       "      <th></th>\n",
       "    </tr>\n",
       "  </thead>\n",
       "  <tbody>\n",
       "    <tr>\n",
       "      <th>2013-01-02 20:00:00+00:00</th>\n",
       "      <td>13331.83</td>\n",
       "      <td>13395.20</td>\n",
       "      <td>13331.83</td>\n",
       "      <td>13395.20</td>\n",
       "    </tr>\n",
       "    <tr>\n",
       "      <th>2013-01-03 15:00:00+00:00</th>\n",
       "      <td>13381.66</td>\n",
       "      <td>13395.66</td>\n",
       "      <td>13376.42</td>\n",
       "      <td>13391.14</td>\n",
       "    </tr>\n",
       "    <tr>\n",
       "      <th>2013-01-03 16:00:00+00:00</th>\n",
       "      <td>13391.18</td>\n",
       "      <td>13413.73</td>\n",
       "      <td>13391.16</td>\n",
       "      <td>13408.19</td>\n",
       "    </tr>\n",
       "    <tr>\n",
       "      <th>2013-01-03 17:00:00+00:00</th>\n",
       "      <td>13408.16</td>\n",
       "      <td>13420.65</td>\n",
       "      <td>13402.45</td>\n",
       "      <td>13419.40</td>\n",
       "    </tr>\n",
       "    <tr>\n",
       "      <th>2013-01-03 18:00:00+00:00</th>\n",
       "      <td>13419.37</td>\n",
       "      <td>13430.13</td>\n",
       "      <td>13411.07</td>\n",
       "      <td>13427.51</td>\n",
       "    </tr>\n",
       "  </tbody>\n",
       "</table>\n",
       "</div>"
      ],
      "text/plain": [
       "                               Open      High       Low     Close\n",
       "Date_Time                                                        \n",
       "2013-01-02 20:00:00+00:00  13331.83  13395.20  13331.83  13395.20\n",
       "2013-01-03 15:00:00+00:00  13381.66  13395.66  13376.42  13391.14\n",
       "2013-01-03 16:00:00+00:00  13391.18  13413.73  13391.16  13408.19\n",
       "2013-01-03 17:00:00+00:00  13408.16  13420.65  13402.45  13419.40\n",
       "2013-01-03 18:00:00+00:00  13419.37  13430.13  13411.07  13427.51"
      ]
     },
     "execution_count": 11,
     "metadata": {},
     "output_type": "execute_result"
    }
   ],
   "source": [
    "sample1"
   ]
  },
  {
   "cell_type": "code",
   "execution_count": 15,
   "metadata": {},
   "outputs": [
    {
     "data": {
      "text/html": [
       "<div>\n",
       "<style scoped>\n",
       "    .dataframe tbody tr th:only-of-type {\n",
       "        vertical-align: middle;\n",
       "    }\n",
       "\n",
       "    .dataframe tbody tr th {\n",
       "        vertical-align: top;\n",
       "    }\n",
       "\n",
       "    .dataframe thead th {\n",
       "        text-align: right;\n",
       "    }\n",
       "</style>\n",
       "<table border=\"1\" class=\"dataframe\">\n",
       "  <thead>\n",
       "    <tr style=\"text-align: right;\">\n",
       "      <th></th>\n",
       "      <th>Open</th>\n",
       "      <th>High</th>\n",
       "      <th>Low</th>\n",
       "      <th>Close</th>\n",
       "    </tr>\n",
       "    <tr>\n",
       "      <th>Date_Time</th>\n",
       "      <th></th>\n",
       "      <th></th>\n",
       "      <th></th>\n",
       "      <th></th>\n",
       "    </tr>\n",
       "  </thead>\n",
       "  <tbody>\n",
       "    <tr>\n",
       "      <th>2013-01-04 15:00:00+00:00</th>\n",
       "      <td>13407.46</td>\n",
       "      <td>13411.91</td>\n",
       "      <td>13377.22</td>\n",
       "      <td>13387.45</td>\n",
       "    </tr>\n",
       "    <tr>\n",
       "      <th>2013-01-04 16:00:00+00:00</th>\n",
       "      <td>13387.37</td>\n",
       "      <td>13420.86</td>\n",
       "      <td>13386.80</td>\n",
       "      <td>13408.33</td>\n",
       "    </tr>\n",
       "    <tr>\n",
       "      <th>2013-01-04 17:00:00+00:00</th>\n",
       "      <td>13408.20</td>\n",
       "      <td>13415.80</td>\n",
       "      <td>13403.52</td>\n",
       "      <td>13405.06</td>\n",
       "    </tr>\n",
       "  </tbody>\n",
       "</table>\n",
       "</div>"
      ],
      "text/plain": [
       "                               Open      High       Low     Close\n",
       "Date_Time                                                        \n",
       "2013-01-04 15:00:00+00:00  13407.46  13411.91  13377.22  13387.45\n",
       "2013-01-04 16:00:00+00:00  13387.37  13420.86  13386.80  13408.33\n",
       "2013-01-04 17:00:00+00:00  13408.20  13415.80  13403.52  13405.06"
      ]
     },
     "execution_count": 15,
     "metadata": {},
     "output_type": "execute_result"
    }
   ],
   "source": [
    "sample2"
   ]
  },
  {
   "cell_type": "code",
   "execution_count": 16,
   "metadata": {},
   "outputs": [
    {
     "data": {
      "text/html": [
       "<div>\n",
       "<style scoped>\n",
       "    .dataframe tbody tr th:only-of-type {\n",
       "        vertical-align: middle;\n",
       "    }\n",
       "\n",
       "    .dataframe tbody tr th {\n",
       "        vertical-align: top;\n",
       "    }\n",
       "\n",
       "    .dataframe thead th {\n",
       "        text-align: right;\n",
       "    }\n",
       "</style>\n",
       "<table border=\"1\" class=\"dataframe\">\n",
       "  <thead>\n",
       "    <tr style=\"text-align: right;\">\n",
       "      <th></th>\n",
       "      <th>Open</th>\n",
       "      <th>High</th>\n",
       "      <th>Low</th>\n",
       "      <th>Close</th>\n",
       "    </tr>\n",
       "    <tr>\n",
       "      <th>Date_Time</th>\n",
       "      <th></th>\n",
       "      <th></th>\n",
       "      <th></th>\n",
       "      <th></th>\n",
       "    </tr>\n",
       "  </thead>\n",
       "  <tbody>\n",
       "    <tr>\n",
       "      <th>2013-01-02 15:00:00+00:00</th>\n",
       "      <td>13366.48</td>\n",
       "      <td>13374.82</td>\n",
       "      <td>13338.68</td>\n",
       "      <td>13345.45</td>\n",
       "    </tr>\n",
       "    <tr>\n",
       "      <th>2013-01-02 16:00:00+00:00</th>\n",
       "      <td>13345.60</td>\n",
       "      <td>13353.75</td>\n",
       "      <td>13321.64</td>\n",
       "      <td>13321.77</td>\n",
       "    </tr>\n",
       "    <tr>\n",
       "      <th>2013-01-02 17:00:00+00:00</th>\n",
       "      <td>13321.76</td>\n",
       "      <td>13339.25</td>\n",
       "      <td>13320.28</td>\n",
       "      <td>13326.66</td>\n",
       "    </tr>\n",
       "    <tr>\n",
       "      <th>2013-01-02 18:00:00+00:00</th>\n",
       "      <td>13326.64</td>\n",
       "      <td>13336.06</td>\n",
       "      <td>13322.51</td>\n",
       "      <td>13329.19</td>\n",
       "    </tr>\n",
       "    <tr>\n",
       "      <th>2013-01-02 19:00:00+00:00</th>\n",
       "      <td>13329.09</td>\n",
       "      <td>13339.82</td>\n",
       "      <td>13318.19</td>\n",
       "      <td>13331.80</td>\n",
       "    </tr>\n",
       "  </tbody>\n",
       "</table>\n",
       "</div>"
      ],
      "text/plain": [
       "                               Open      High       Low     Close\n",
       "Date_Time                                                        \n",
       "2013-01-02 15:00:00+00:00  13366.48  13374.82  13338.68  13345.45\n",
       "2013-01-02 16:00:00+00:00  13345.60  13353.75  13321.64  13321.77\n",
       "2013-01-02 17:00:00+00:00  13321.76  13339.25  13320.28  13326.66\n",
       "2013-01-02 18:00:00+00:00  13326.64  13336.06  13322.51  13329.19\n",
       "2013-01-02 19:00:00+00:00  13329.09  13339.82  13318.19  13331.80"
      ]
     },
     "execution_count": 16,
     "metadata": {},
     "output_type": "execute_result"
    }
   ],
   "source": [
    "sample3"
   ]
  },
  {
   "cell_type": "code",
   "execution_count": 24,
   "metadata": {},
   "outputs": [],
   "source": [
    "def appendHDF(hdfFile, bucket, data, sample_unit='1H', update=False):\n",
    "    # Get HDFStore\n",
    "    hdfStore = pandas.HDFStore(hdfFile, 'a')\n",
    "    append = True\n",
    "    # TODO Sort incoming data\n",
    "    \n",
    "    if '/'+bucket in hdfStore.keys():\n",
    "    \n",
    "        # Get first,last row\n",
    "        nrows = hdfStore.get_storer(bucket).nrows\n",
    "        last = hdfStore.select(bucket,start=nrows-1,stop=nrows)\n",
    "        \n",
    "        # If this is entirely beyond the last element in the file... append\n",
    "        # If not... update (incurring a full file re-write and performance hit), or throw exception                  \n",
    "        if not data[data.index<=last.index[0]].empty:\n",
    "            # Update table with overlapped data\n",
    "            storedData = hdfStore.get(bucket)\n",
    "            data = ppl.merge(data, storedData)\n",
    "            append = False\n",
    "            \n",
    "            if not update:\n",
    "                raise ValueError('Error: Entry already exists for data starting at index ' + str(data.index[0])) \n",
    "        else:                                      \n",
    "            data = ppl.merge(last, data)        \n",
    "     \n",
    "    data = ppl.resample(data, sample_unit)\n",
    "    if append:        \n",
    "        print(\"Appending data...\")\n",
    "        hdfStore.append(bucket, data, format='table', append=True)\n",
    "    else:\n",
    "        print(\"Re-writing table data for update...\")\n",
    "        hdfStore.put(bucket, data, format='table')\n",
    "\n",
    "    hdfStore.close()\n",
    "    \n",
    "    \n",
    "def getHDF(hdfFile, bucket):\n",
    "    \n",
    "    # Get HDFStore\n",
    "    hdfStore = pandas.HDFStore(hdfFile, 'r')\n",
    "    data = hdfStore.get(bucket)   \n",
    "    hdfStore.close()    \n",
    "    return data\n",
    "\n"
   ]
  },
  {
   "cell_type": "code",
   "execution_count": 27,
   "metadata": {},
   "outputs": [
    {
     "name": "stdout",
     "output_type": "stream",
     "text": [
      "Merging data...\n",
      "Resampling to 1H periods\n",
      "Re-writing table data for update...\n"
     ]
    }
   ],
   "source": [
    "appendHDF(\"temp.hdf\", \"DOW\", sample3, '1H', True)"
   ]
  },
  {
   "cell_type": "code",
   "execution_count": 3,
   "metadata": {},
   "outputs": [
    {
     "name": "stderr",
     "output_type": "stream",
     "text": [
      "/home/cwilkin/Development/anaconda/envs/dev/lib/python3.6/importlib/_bootstrap.py:219: RuntimeWarning: numpy.ufunc size changed, may indicate binary incompatibility. Expected 192 from C header, got 216 from PyObject\n",
      "  return f(*args, **kwds)\n"
     ]
    }
   ],
   "source": [
    "hdfFile = \"../datasources/data.hdf\"\n",
    "x = pandas.HDFStore(hdfFile, 'r')"
   ]
  },
  {
   "cell_type": "code",
   "execution_count": 12,
   "metadata": {},
   "outputs": [],
   "source": [
    "start = \"2013-01-02 20:00:00+00:00\"\n",
    "end = \"2013-01-03 17:00:00+00:00\"\n",
    "select = ''.join([\"index>'\", start, \"' and index<='\", end, \"'\"])\n",
    "poo = x.select(\"D&J-IND\", where=select)"
   ]
  },
  {
   "cell_type": "code",
   "execution_count": 10,
   "metadata": {},
   "outputs": [
    {
     "data": {
      "text/plain": [
       "'D&J-IND'"
      ]
     },
     "execution_count": 10,
     "metadata": {},
     "output_type": "execute_result"
    }
   ],
   "source": [
    "x.keys()[0].split('/')[1]"
   ]
  },
  {
   "cell_type": "code",
   "execution_count": 4,
   "metadata": {},
   "outputs": [
    {
     "ename": "NameError",
     "evalue": "name 'poo' is not defined",
     "output_type": "error",
     "traceback": [
      "\u001b[0;31m---------------------------------------------------------------------------\u001b[0m",
      "\u001b[0;31mNameError\u001b[0m                                 Traceback (most recent call last)",
      "\u001b[0;32m<ipython-input-4-b47298feab9a>\u001b[0m in \u001b[0;36m<module>\u001b[0;34m()\u001b[0m\n\u001b[0;32m----> 1\u001b[0;31m \u001b[0mpoo\u001b[0m\u001b[0;34m[\u001b[0m\u001b[0;34m\"2013-01-02 20:05:00+00:00\"\u001b[0m\u001b[0;34m:\u001b[0m\u001b[0;34m\"2013-01-02 20:20:00+00:00\"\u001b[0m\u001b[0;34m]\u001b[0m\u001b[0;34m.\u001b[0m\u001b[0msort_values\u001b[0m\u001b[0;34m(\u001b[0m\u001b[0;34m)\u001b[0m\u001b[0;34m\u001b[0m\u001b[0;34m\u001b[0m\u001b[0m\n\u001b[0m",
      "\u001b[0;31mNameError\u001b[0m: name 'poo' is not defined"
     ]
    }
   ],
   "source": [
    "poo[\"2013-01-02 20:05:00+00:00\":\"2013-01-02 20:20:00+00:00\"].sort_values()"
   ]
  },
  {
   "cell_type": "code",
   "execution_count": null,
   "metadata": {},
   "outputs": [],
   "source": []
  }
 ],
 "metadata": {
  "kernelspec": {
   "display_name": "Python 3",
   "language": "python",
   "name": "python3"
  },
  "language_info": {
   "codemirror_mode": {
    "name": "ipython",
    "version": 3
   },
   "file_extension": ".py",
   "mimetype": "text/x-python",
   "name": "python",
   "nbconvert_exporter": "python",
   "pygments_lexer": "ipython3",
   "version": "3.6.9"
  }
 },
 "nbformat": 4,
 "nbformat_minor": 2
}
